{
 "cells": [
  {
   "cell_type": "markdown",
   "metadata": {
    "id": "GNIwe5N7s0e_"
   },
   "source": [
    "# Real-world Data Wrangling"
   ]
  },
  {
   "cell_type": "code",
   "execution_count": 1,
   "metadata": {},
   "outputs": [
    {
     "name": "stdout",
     "output_type": "stream",
     "text": [
      "Defaulting to user installation because normal site-packages is not writeable\n",
      "Requirement already satisfied: kaggle==1.6.12 in /home/student/.local/lib/python3.10/site-packages (1.6.12)\n",
      "Requirement already satisfied: tqdm in /opt/conda/lib/python3.10/site-packages (from kaggle==1.6.12) (4.65.0)\n",
      "Requirement already satisfied: urllib3 in /opt/conda/lib/python3.10/site-packages (from kaggle==1.6.12) (1.26.15)\n",
      "Requirement already satisfied: python-dateutil in /opt/conda/lib/python3.10/site-packages (from kaggle==1.6.12) (2.9.0.post0)\n",
      "Requirement already satisfied: bleach in /opt/conda/lib/python3.10/site-packages (from kaggle==1.6.12) (6.1.0)\n",
      "Requirement already satisfied: six>=1.10 in /opt/conda/lib/python3.10/site-packages (from kaggle==1.6.12) (1.16.0)\n",
      "Requirement already satisfied: python-slugify in /home/student/.local/lib/python3.10/site-packages (from kaggle==1.6.12) (8.0.4)\n",
      "Requirement already satisfied: certifi>=2023.7.22 in /home/student/.local/lib/python3.10/site-packages (from kaggle==1.6.12) (2024.7.4)\n",
      "Requirement already satisfied: requests in /opt/conda/lib/python3.10/site-packages (from kaggle==1.6.12) (2.29.0)\n",
      "Requirement already satisfied: webencodings in /opt/conda/lib/python3.10/site-packages (from bleach->kaggle==1.6.12) (0.5.1)\n",
      "Requirement already satisfied: text-unidecode>=1.3 in /home/student/.local/lib/python3.10/site-packages (from python-slugify->kaggle==1.6.12) (1.3)\n",
      "Requirement already satisfied: idna<4,>=2.5 in /opt/conda/lib/python3.10/site-packages (from requests->kaggle==1.6.12) (3.4)\n",
      "Requirement already satisfied: charset-normalizer<4,>=2 in /opt/conda/lib/python3.10/site-packages (from requests->kaggle==1.6.12) (2.0.4)\n"
     ]
    }
   ],
   "source": [
    "!python -m pip install kaggle==1.6.12"
   ]
  },
  {
   "cell_type": "code",
   "execution_count": 2,
   "metadata": {},
   "outputs": [
    {
     "name": "stdout",
     "output_type": "stream",
     "text": [
      "Collecting ucimlrepo\n",
      "  Using cached ucimlrepo-0.0.7-py3-none-any.whl (8.0 kB)\n",
      "Collecting pandas>=1.0.0\n",
      "  Using cached pandas-2.2.2-cp310-cp310-manylinux_2_17_x86_64.manylinux2014_x86_64.whl (13.0 MB)\n",
      "Collecting certifi>=2020.12.5\n",
      "  Using cached certifi-2024.7.4-py3-none-any.whl (162 kB)\n",
      "Collecting python-dateutil>=2.8.2\n",
      "  Using cached python_dateutil-2.9.0.post0-py2.py3-none-any.whl (229 kB)\n",
      "Collecting tzdata>=2022.7\n",
      "  Using cached tzdata-2024.1-py2.py3-none-any.whl (345 kB)\n",
      "Collecting pytz>=2020.1\n",
      "  Using cached pytz-2024.1-py2.py3-none-any.whl (505 kB)\n",
      "Collecting numpy>=1.22.4\n",
      "  Using cached numpy-2.0.1-cp310-cp310-manylinux_2_17_x86_64.manylinux2014_x86_64.whl (19.5 MB)\n",
      "Collecting six>=1.5\n",
      "  Using cached six-1.16.0-py2.py3-none-any.whl (11 kB)\n",
      "Installing collected packages: pytz, tzdata, six, numpy, certifi, python-dateutil, pandas, ucimlrepo\n",
      "Successfully installed certifi-2024.7.4 numpy-2.0.1 pandas-2.2.2 python-dateutil-2.9.0.post0 pytz-2024.1 six-1.16.0 tzdata-2024.1 ucimlrepo-0.0.7\n",
      "\u001b[33mWARNING: Target directory /workspace/certifi already exists. Specify --upgrade to force replacement.\u001b[0m\u001b[33m\n",
      "\u001b[0m\u001b[33mWARNING: Target directory /workspace/ucimlrepo-0.0.7.dist-info already exists. Specify --upgrade to force replacement.\u001b[0m\u001b[33m\n",
      "\u001b[0m\u001b[33mWARNING: Target directory /workspace/pytz already exists. Specify --upgrade to force replacement.\u001b[0m\u001b[33m\n",
      "\u001b[0m\u001b[33mWARNING: Target directory /workspace/ucimlrepo already exists. Specify --upgrade to force replacement.\u001b[0m\u001b[33m\n",
      "\u001b[0m\u001b[33mWARNING: Target directory /workspace/dateutil already exists. Specify --upgrade to force replacement.\u001b[0m\u001b[33m\n",
      "\u001b[0m\u001b[33mWARNING: Target directory /workspace/pandas-2.2.2.dist-info already exists. Specify --upgrade to force replacement.\u001b[0m\u001b[33m\n",
      "\u001b[0m\u001b[33mWARNING: Target directory /workspace/tzdata already exists. Specify --upgrade to force replacement.\u001b[0m\u001b[33m\n",
      "\u001b[0m\u001b[33mWARNING: Target directory /workspace/tzdata-2024.1.dist-info already exists. Specify --upgrade to force replacement.\u001b[0m\u001b[33m\n",
      "\u001b[0m\u001b[33mWARNING: Target directory /workspace/six-1.16.0.dist-info already exists. Specify --upgrade to force replacement.\u001b[0m\u001b[33m\n",
      "\u001b[0m\u001b[33mWARNING: Target directory /workspace/certifi-2024.7.4.dist-info already exists. Specify --upgrade to force replacement.\u001b[0m\u001b[33m\n",
      "\u001b[0m\u001b[33mWARNING: Target directory /workspace/pytz-2024.1.dist-info already exists. Specify --upgrade to force replacement.\u001b[0m\u001b[33m\n",
      "\u001b[0m\u001b[33mWARNING: Target directory /workspace/python_dateutil-2.9.0.post0.dist-info already exists. Specify --upgrade to force replacement.\u001b[0m\u001b[33m\n",
      "\u001b[0m\u001b[33mWARNING: Target directory /workspace/__pycache__ already exists. Specify --upgrade to force replacement.\u001b[0m\u001b[33m\n",
      "\u001b[0m\u001b[33mWARNING: Target directory /workspace/numpy.libs already exists. Specify --upgrade to force replacement.\u001b[0m\u001b[33m\n",
      "\u001b[0m\u001b[33mWARNING: Target directory /workspace/pandas already exists. Specify --upgrade to force replacement.\u001b[0m\u001b[33m\n",
      "\u001b[0m\u001b[33mWARNING: Target directory /workspace/numpy already exists. Specify --upgrade to force replacement.\u001b[0m\u001b[33m\n",
      "\u001b[0m\u001b[33mWARNING: Target directory /workspace/numpy-2.0.1.dist-info already exists. Specify --upgrade to force replacement.\u001b[0m\u001b[33m\n",
      "\u001b[0m\u001b[33mWARNING: Target directory /workspace/six.py already exists. Specify --upgrade to force replacement.\u001b[0m\u001b[33m\n",
      "\u001b[0m\u001b[33mWARNING: Target directory /workspace/bin already exists. Specify --upgrade to force replacement.\u001b[0m\u001b[33m\n",
      "\u001b[0m"
     ]
    }
   ],
   "source": [
    "!pip install --target=/workspace ucimlrepo"
   ]
  },
  {
   "cell_type": "markdown",
   "metadata": {},
   "source": [
    "**Note:** Restart the kernel to use updated package(s)."
   ]
  },
  {
   "cell_type": "markdown",
   "metadata": {
    "id": "lDYDkH-Zs7Nn"
   },
   "source": [
    "## 1. Gather data\n",
    "\n",
    "In this section, we will extract data using two different data gathering methods and combine the data."
   ]
  },
  {
   "cell_type": "markdown",
   "metadata": {
    "id": "LbN7z7rcuqpO"
   },
   "source": [
    "\n",
    "### **1.1.** Problem Statement: Exploring the Relationship Between Movie Runtime and Ratings\n",
    "\n",
    "In the film industry, various factors contribute to a movie's success and audience reception. Among these factors, runtime is often debated in terms of its impact on a movie's overall rating. This study aims to explore the relationship between the runtime of movies and their ratings to understand if and how the length of a film affects its critical and audience reception."
   ]
  },
  {
   "cell_type": "markdown",
   "metadata": {
    "id": "gi6swhjSYqu2"
   },
   "source": [
    "### Datasets\n",
    "\n",
    "1. **Hydra Movies Dataset**: This dataset, available on Kaggle, includes detailed information about movies, including directors, writers, cast, and more. You can find the dataset [here](https://www.kaggle.com/datasets/thedevastator/hydra-movies-dataset-directors-writers-cast-and).\n",
    "2. **OMDb API Data**: Additional data will be gathered using the OMDb (Open Movie Database) API. This API provides access to a large repository of movie information, including ratings, which will be used to supplement the analysis.\n"
   ]
  },
  {
   "cell_type": "markdown",
   "metadata": {
    "id": "8AQfBAdUypMm"
   },
   "source": [
    "### **1.2.** Gather the datasets using two different data gathering methods:"
   ]
  },
  {
   "cell_type": "markdown",
   "metadata": {
    "id": "7e6gS0wL1KTu"
   },
   "source": [
    "#### **Dataset 1**\n",
    "\n",
    "_Type:_ CSV File.\n",
    "\n",
    "_Method:_ The data was gathered via Manual Download from Kaggle as linked above.\n"
   ]
  },
  {
   "cell_type": "code",
   "execution_count": 3,
   "metadata": {
    "id": "Su8E0uLuYkHU"
   },
   "outputs": [],
   "source": [
    "import pandas as pd\n",
    "import numpy as np"
   ]
  },
  {
   "cell_type": "code",
   "execution_count": 4,
   "metadata": {},
   "outputs": [],
   "source": [
    "movies_first= pd.read_csv('Hydra-Movie-Scrape.csv')"
   ]
  },
  {
   "cell_type": "markdown",
   "metadata": {},
   "source": [
    "### Dataset Details\n",
    "\n",
    "The dataset used in this analysis includes the following columns:\n",
    "\n",
    "\n",
    "| Column Name       | Description                                             |\n",
    "|-------------------|---------------------------------------------------------|\n",
    "| **Title**         |     The title of the movie.                               |\n",
    "| **Year**          |     The year the movie was released.                       |\n",
    "| **Summary**       |     A full summary of the movie.                            |\n",
    "| **Short Summary** |     A brief summary of the movie.                           |\n",
    "| **Genres**        |     The genres the movie falls into.                        |\n",
    "| **Runtime**       |     The length of the movie in minutes.                     |\n",
    "| **YouTube Trailer** |   The YouTube trailer ID for the movie.                |\n",
    "| **Rating**        |     The rating of the movie.                                |\n",
    "| **Movie Poster**  |     The URL path for the movie poster.                      |\n",
    "| **Director**      |     The director of the movie.                              |\n",
    "| **Writers**       |     The writers of the movie.                               |\n",
    "| **Cast**          |     The cast of the movie.                                  |\n",
    "\n"
   ]
  },
  {
   "cell_type": "markdown",
   "metadata": {},
   "source": [
    "---\n"
   ]
  },
  {
   "cell_type": "markdown",
   "metadata": {
    "id": "hoUjq1tPzz7P"
   },
   "source": [
    "#### Dataset 2\n",
    "\n",
    "_Type:_ CSV File.\n",
    "\n",
    "_Method:_  The data was gathered using the \"API\" method from OMDb.\n"
   ]
  },
  {
   "cell_type": "markdown",
   "metadata": {},
   "source": [
    "A snippet of the API request code, __I have changed the csv file this code saves to, so it would not replace the csv gathered__.\n",
    "\n",
    "Note: Had to include so much more Movie Id's to get the data."
   ]
  },
  {
   "cell_type": "code",
   "execution_count": 5,
   "metadata": {},
   "outputs": [
    {
     "name": "stdout",
     "output_type": "stream",
     "text": [
      "Data saved to moviessss_data.csv\n",
      "Total movies fetched: 14\n"
     ]
    }
   ],
   "source": [
    "import requests\n",
    "import pandas as pd\n",
    "\n",
    "API_KEY = '48767b3e'\n",
    "BASE_URL = 'http://www.omdbapi.com/'\n",
    "\n",
    "def get_movie_details(imdb_id):\n",
    "    params = {\n",
    "        'apikey': API_KEY,\n",
    "        'i': imdb_id\n",
    "    }\n",
    "    response = requests.get(BASE_URL, params=params)\n",
    "    return response.json()\n",
    "\n",
    "def main():\n",
    "    imdb_ids = [\n",
    "    'tt0133093', 'tt0120737', 'tt1375666', 'tt0468569', 'tt0076759', 'tt0050083', 'tt0068646', \n",
    "    'tt0137523', 'tt0109830', 'tt0110912', 'tt0060196', 'tt0080684', 'tt0167260', 'tt0071562']\n",
    "\n",
    "    all_movies = []\n",
    "    for imdb_id in imdb_ids:\n",
    "        movie = get_movie_details(imdb_id)\n",
    "        if movie:\n",
    "            all_movies.append(movie)\n",
    "\n",
    "    moviessss_data = []\n",
    "    for movie in all_movies:\n",
    "        title = movie.get('Title', 'Unknown')\n",
    "        rating = movie.get('imdbRating', 'N/A')\n",
    "        genre = movie.get('Genre', 'N/A')\n",
    "        runtime = movie.get('Runtime', 'N/A')\n",
    "\n",
    "        moviessss_data.append({\n",
    "            'Title': title,\n",
    "            'Rating': rating,\n",
    "            'Genre': genre,\n",
    "            'Runtime': runtime\n",
    "        })\n",
    "\n",
    "    # Convert to DataFrame and save to CSV\n",
    "    df = pd.DataFrame(moviessss_data)\n",
    "    df.to_csv('moviessss_data.csv', index=False)\n",
    "    print('Data saved to moviessss_data.csv')\n",
    "    print(f\"Total movies fetched: {len(all_movies)}\")\n",
    "\n",
    "if __name__ == \"__main__\":\n",
    "    main()\n"
   ]
  },
  {
   "cell_type": "code",
   "execution_count": 6,
   "metadata": {
    "id": "6zT0QxRyYmm7"
   },
   "outputs": [],
   "source": [
    "movies_sec=pd.read_csv('movies_data.csv')"
   ]
  },
  {
   "cell_type": "markdown",
   "metadata": {},
   "source": [
    "### Dataset Details:\n",
    "\n",
    "The second dataset used in this analysis includes the following columns:\n",
    "| Column Name | Description                                                                 |\n",
    "|-------------|-----------------------------------------------------------------------------|\n",
    "| Title       | The name of the movie.                                                        |\n",
    "| Rating      | The average rating of the movie, typically on a scale from 0 to 10.            |\n",
    "| Genre       | The genre or genres that describe the movie. Multiple genres are listed, separated by commas. |\n",
    "| Runtime     | The total duration of the movie, expressed in minutes.                          |\n"
   ]
  },
  {
   "cell_type": "markdown",
   "metadata": {
    "id": "QwSWIVmotLgV"
   },
   "source": [
    "## 2. Assess data\n",
    "\n",
    "Assess the data according to data quality and tidiness metrics using the report below.\n",
    "\n",
    "List **two** data quality issues and **two** tidiness issues. Assess each data issue visually **and** programmatically, then briefly describe the issue you find.  **Make sure you include justifications for the methods you use for the assessment.**"
   ]
  },
  {
   "cell_type": "markdown",
   "metadata": {
    "id": "adaK2iPNzVu4"
   },
   "source": [
    "### Completeness:"
   ]
  },
  {
   "cell_type": "markdown",
   "metadata": {},
   "source": [
    "__1. Checking the first dataset (movies_first) visually via viewing the first 5 rows and another 5 random rows.__"
   ]
  },
  {
   "cell_type": "code",
   "execution_count": 7,
   "metadata": {},
   "outputs": [
    {
     "data": {
      "text/html": [
       "<div>\n",
       "<style scoped>\n",
       "    .dataframe tbody tr th:only-of-type {\n",
       "        vertical-align: middle;\n",
       "    }\n",
       "\n",
       "    .dataframe tbody tr th {\n",
       "        vertical-align: top;\n",
       "    }\n",
       "\n",
       "    .dataframe thead th {\n",
       "        text-align: right;\n",
       "    }\n",
       "</style>\n",
       "<table border=\"1\" class=\"dataframe\">\n",
       "  <thead>\n",
       "    <tr style=\"text-align: right;\">\n",
       "      <th></th>\n",
       "      <th>Title</th>\n",
       "      <th>Year</th>\n",
       "      <th>Summary</th>\n",
       "      <th>Short Summary</th>\n",
       "      <th>Genres</th>\n",
       "      <th>IMDB ID</th>\n",
       "      <th>Runtime</th>\n",
       "      <th>YouTube Trailer</th>\n",
       "      <th>Rating</th>\n",
       "      <th>Movie Poster</th>\n",
       "      <th>Director</th>\n",
       "      <th>Writers</th>\n",
       "      <th>Cast</th>\n",
       "    </tr>\n",
       "  </thead>\n",
       "  <tbody>\n",
       "    <tr>\n",
       "      <th>0</th>\n",
       "      <td>Patton Oswalt: Annihilation</td>\n",
       "      <td>2017</td>\n",
       "      <td>Patton Oswald, despite a personal tragedy, pro...</td>\n",
       "      <td>Patton Oswalt, despite a personal tragedy, pro...</td>\n",
       "      <td>Uncategorized</td>\n",
       "      <td>tt7026230</td>\n",
       "      <td>66</td>\n",
       "      <td>4hZi5QaMBFc</td>\n",
       "      <td>7.4</td>\n",
       "      <td>https://hydramovies.com/wp-content/uploads/201...</td>\n",
       "      <td>Bobcat Goldthwait</td>\n",
       "      <td>Patton Oswalt</td>\n",
       "      <td>Patton Oswalt</td>\n",
       "    </tr>\n",
       "    <tr>\n",
       "      <th>1</th>\n",
       "      <td>New York Doll</td>\n",
       "      <td>2005</td>\n",
       "      <td>A recovering alcoholic and recently converted ...</td>\n",
       "      <td>A recovering alcoholic and recently converted ...</td>\n",
       "      <td>Documentary|Music</td>\n",
       "      <td>tt0436629</td>\n",
       "      <td>75</td>\n",
       "      <td>jwD04NsnLLg</td>\n",
       "      <td>7.9</td>\n",
       "      <td>https://hydramovies.com/wp-content/uploads/201...</td>\n",
       "      <td>Greg Whiteley</td>\n",
       "      <td>Arthur Kane</td>\n",
       "      <td>Sylvain Sylvain</td>\n",
       "    </tr>\n",
       "    <tr>\n",
       "      <th>2</th>\n",
       "      <td>Mickey's Magical Christmas: Snowed in at the H...</td>\n",
       "      <td>2001</td>\n",
       "      <td>After everyone is snowed in at the House of Mo...</td>\n",
       "      <td>Mickey and all his friends hold their own Chri...</td>\n",
       "      <td>Adventure|Animation|Comedy|Family|Fantasy</td>\n",
       "      <td>tt0300195</td>\n",
       "      <td>65</td>\n",
       "      <td>uCKwHHftrU4</td>\n",
       "      <td>6.8</td>\n",
       "      <td>https://hydramovies.com/wp-content/uploads/201...</td>\n",
       "      <td>Tony Craig</td>\n",
       "      <td>Thomas Hart</td>\n",
       "      <td>Carlos Alazraqui|Wayne Allwine</td>\n",
       "    </tr>\n",
       "    <tr>\n",
       "      <th>3</th>\n",
       "      <td>Mickey's House of Villains</td>\n",
       "      <td>2001</td>\n",
       "      <td>The villains from the popular animated Disney ...</td>\n",
       "      <td>The villains from the popular animated Disney ...</td>\n",
       "      <td>Animation|Comedy|Family|Fantasy|Horror</td>\n",
       "      <td>tt0329374</td>\n",
       "      <td>0</td>\n",
       "      <td>JA03ciYt-Ek</td>\n",
       "      <td>6.6</td>\n",
       "      <td>https://hydramovies.com/wp-content/uploads/201...</td>\n",
       "      <td>Jamie Mitchell</td>\n",
       "      <td>Thomas Hart</td>\n",
       "      <td>Tony Anselmo|Wayne Allwine</td>\n",
       "    </tr>\n",
       "    <tr>\n",
       "      <th>4</th>\n",
       "      <td>And Then I Go</td>\n",
       "      <td>2017</td>\n",
       "      <td>In the cruel world of junior high, Edwin suffe...</td>\n",
       "      <td>In the cruel world of junior high, Edwin suffe...</td>\n",
       "      <td>Drama</td>\n",
       "      <td>tt2018111</td>\n",
       "      <td>99</td>\n",
       "      <td>8CdIiD6-iF0</td>\n",
       "      <td>7.6</td>\n",
       "      <td>https://hydramovies.com/wp-content/uploads/201...</td>\n",
       "      <td>Vincent Grashaw</td>\n",
       "      <td>Brett Haley</td>\n",
       "      <td>Arman Darbo|Sawyer Barth</td>\n",
       "    </tr>\n",
       "  </tbody>\n",
       "</table>\n",
       "</div>"
      ],
      "text/plain": [
       "                                               Title  Year  \\\n",
       "0                        Patton Oswalt: Annihilation  2017   \n",
       "1                                      New York Doll  2005   \n",
       "2  Mickey's Magical Christmas: Snowed in at the H...  2001   \n",
       "3                         Mickey's House of Villains  2001   \n",
       "4                                      And Then I Go  2017   \n",
       "\n",
       "                                             Summary  \\\n",
       "0  Patton Oswald, despite a personal tragedy, pro...   \n",
       "1  A recovering alcoholic and recently converted ...   \n",
       "2  After everyone is snowed in at the House of Mo...   \n",
       "3  The villains from the popular animated Disney ...   \n",
       "4  In the cruel world of junior high, Edwin suffe...   \n",
       "\n",
       "                                       Short Summary  \\\n",
       "0  Patton Oswalt, despite a personal tragedy, pro...   \n",
       "1  A recovering alcoholic and recently converted ...   \n",
       "2  Mickey and all his friends hold their own Chri...   \n",
       "3  The villains from the popular animated Disney ...   \n",
       "4  In the cruel world of junior high, Edwin suffe...   \n",
       "\n",
       "                                      Genres    IMDB ID  Runtime  \\\n",
       "0                              Uncategorized  tt7026230       66   \n",
       "1                          Documentary|Music  tt0436629       75   \n",
       "2  Adventure|Animation|Comedy|Family|Fantasy  tt0300195       65   \n",
       "3     Animation|Comedy|Family|Fantasy|Horror  tt0329374        0   \n",
       "4                                      Drama  tt2018111       99   \n",
       "\n",
       "  YouTube Trailer  Rating                                       Movie Poster  \\\n",
       "0     4hZi5QaMBFc     7.4  https://hydramovies.com/wp-content/uploads/201...   \n",
       "1     jwD04NsnLLg     7.9  https://hydramovies.com/wp-content/uploads/201...   \n",
       "2     uCKwHHftrU4     6.8  https://hydramovies.com/wp-content/uploads/201...   \n",
       "3     JA03ciYt-Ek     6.6  https://hydramovies.com/wp-content/uploads/201...   \n",
       "4     8CdIiD6-iF0     7.6  https://hydramovies.com/wp-content/uploads/201...   \n",
       "\n",
       "            Director        Writers                            Cast  \n",
       "0  Bobcat Goldthwait  Patton Oswalt                   Patton Oswalt  \n",
       "1      Greg Whiteley    Arthur Kane                 Sylvain Sylvain  \n",
       "2         Tony Craig    Thomas Hart  Carlos Alazraqui|Wayne Allwine  \n",
       "3     Jamie Mitchell    Thomas Hart      Tony Anselmo|Wayne Allwine  \n",
       "4    Vincent Grashaw    Brett Haley        Arman Darbo|Sawyer Barth  "
      ]
     },
     "execution_count": 7,
     "metadata": {},
     "output_type": "execute_result"
    }
   ],
   "source": [
    "movies_first.head()"
   ]
  },
  {
   "cell_type": "markdown",
   "metadata": {},
   "source": [
    "We notice that there are null values in the Genre column represented as Uncategorized & runtime as 0."
   ]
  },
  {
   "cell_type": "code",
   "execution_count": 8,
   "metadata": {},
   "outputs": [
    {
     "data": {
      "text/html": [
       "<div>\n",
       "<style scoped>\n",
       "    .dataframe tbody tr th:only-of-type {\n",
       "        vertical-align: middle;\n",
       "    }\n",
       "\n",
       "    .dataframe tbody tr th {\n",
       "        vertical-align: top;\n",
       "    }\n",
       "\n",
       "    .dataframe thead th {\n",
       "        text-align: right;\n",
       "    }\n",
       "</style>\n",
       "<table border=\"1\" class=\"dataframe\">\n",
       "  <thead>\n",
       "    <tr style=\"text-align: right;\">\n",
       "      <th></th>\n",
       "      <th>Title</th>\n",
       "      <th>Year</th>\n",
       "      <th>Summary</th>\n",
       "      <th>Short Summary</th>\n",
       "      <th>Genres</th>\n",
       "      <th>IMDB ID</th>\n",
       "      <th>Runtime</th>\n",
       "      <th>YouTube Trailer</th>\n",
       "      <th>Rating</th>\n",
       "      <th>Movie Poster</th>\n",
       "      <th>Director</th>\n",
       "      <th>Writers</th>\n",
       "      <th>Cast</th>\n",
       "    </tr>\n",
       "  </thead>\n",
       "  <tbody>\n",
       "    <tr>\n",
       "      <th>2307</th>\n",
       "      <td>From Paris with Love</td>\n",
       "      <td>2010</td>\n",
       "      <td>James Reece is an ambitious aide to the U.S. A...</td>\n",
       "      <td>In Paris, a young employee in the office of th...</td>\n",
       "      <td>Action|Crime|Thriller</td>\n",
       "      <td>tt1179034</td>\n",
       "      <td>92</td>\n",
       "      <td>CDR4WLX7V-I</td>\n",
       "      <td>6.5</td>\n",
       "      <td>https://hydramovies.com/wp-content/uploads/201...</td>\n",
       "      <td>Pierre Morel</td>\n",
       "      <td>Adi Hasak</td>\n",
       "      <td>John Travolta|Jonathan Rhys Meyers|Kasia Smutniak</td>\n",
       "    </tr>\n",
       "    <tr>\n",
       "      <th>2672</th>\n",
       "      <td>Arthur Christmas</td>\n",
       "      <td>2011</td>\n",
       "      <td>Arthur Christmas reveals the incredible, never...</td>\n",
       "      <td>Santa's clumsy son Arthur sets out on a missio...</td>\n",
       "      <td>Action|Adventure|Animation|Comedy|Drama</td>\n",
       "      <td>tt1430607</td>\n",
       "      <td>97</td>\n",
       "      <td>eMiyMkS1DNY</td>\n",
       "      <td>7.1</td>\n",
       "      <td>https://hydramovies.com/wp-content/uploads/201...</td>\n",
       "      <td>Sarah Smith</td>\n",
       "      <td>Peter Baynham</td>\n",
       "      <td>Bill Nighy|James McAvoy|Jim Broadbent</td>\n",
       "    </tr>\n",
       "    <tr>\n",
       "      <th>619</th>\n",
       "      <td>Café Society</td>\n",
       "      <td>2016</td>\n",
       "      <td>In 1930's Hollywood, the powerful agent, Phil ...</td>\n",
       "      <td>In the 1930s, a Bronx native moves to Hollywoo...</td>\n",
       "      <td>Action|Comedy|Drama|Romance</td>\n",
       "      <td>tt4513674</td>\n",
       "      <td>96</td>\n",
       "      <td>Rl4X6pFfmTI</td>\n",
       "      <td>6.6</td>\n",
       "      <td>https://hydramovies.com/wp-content/uploads/201...</td>\n",
       "      <td>Woody Allen</td>\n",
       "      <td>Woody Allen</td>\n",
       "      <td>Jesse Eisenberg|Kristen Stewart|Steve Carell</td>\n",
       "    </tr>\n",
       "    <tr>\n",
       "      <th>2031</th>\n",
       "      <td>Life in a Day</td>\n",
       "      <td>2011</td>\n",
       "      <td>What do you get when you ask the people of the...</td>\n",
       "      <td>A documentary shot by film-makers all over the...</td>\n",
       "      <td>Documentary|Drama</td>\n",
       "      <td>tt1687247</td>\n",
       "      <td>95</td>\n",
       "      <td>bT_UmBHMYzg</td>\n",
       "      <td>7.7</td>\n",
       "      <td>https://hydramovies.com/wp-content/uploads/201...</td>\n",
       "      <td>Loressa Clisby</td>\n",
       "      <td>Hiroaki Aikawa</td>\n",
       "      <td>NaN</td>\n",
       "    </tr>\n",
       "    <tr>\n",
       "      <th>1141</th>\n",
       "      <td>Unstoppable</td>\n",
       "      <td>2010</td>\n",
       "      <td>A runaway train carrying a cargo of toxic chem...</td>\n",
       "      <td>With an unmanned, half-mile-long freight train...</td>\n",
       "      <td>Action|Thriller</td>\n",
       "      <td>tt0477080</td>\n",
       "      <td>98</td>\n",
       "      <td>fyuoIqeL-bc</td>\n",
       "      <td>6.8</td>\n",
       "      <td>https://hydramovies.com/wp-content/uploads/201...</td>\n",
       "      <td>Tony Scott</td>\n",
       "      <td>Mark Bomback</td>\n",
       "      <td>Chris Pine|Denzel Washington|Rosario Dawson</td>\n",
       "    </tr>\n",
       "  </tbody>\n",
       "</table>\n",
       "</div>"
      ],
      "text/plain": [
       "                     Title  Year  \\\n",
       "2307  From Paris with Love  2010   \n",
       "2672      Arthur Christmas  2011   \n",
       "619           Café Society  2016   \n",
       "2031         Life in a Day  2011   \n",
       "1141           Unstoppable  2010   \n",
       "\n",
       "                                                Summary  \\\n",
       "2307  James Reece is an ambitious aide to the U.S. A...   \n",
       "2672  Arthur Christmas reveals the incredible, never...   \n",
       "619   In 1930's Hollywood, the powerful agent, Phil ...   \n",
       "2031  What do you get when you ask the people of the...   \n",
       "1141  A runaway train carrying a cargo of toxic chem...   \n",
       "\n",
       "                                          Short Summary  \\\n",
       "2307  In Paris, a young employee in the office of th...   \n",
       "2672  Santa's clumsy son Arthur sets out on a missio...   \n",
       "619   In the 1930s, a Bronx native moves to Hollywoo...   \n",
       "2031  A documentary shot by film-makers all over the...   \n",
       "1141  With an unmanned, half-mile-long freight train...   \n",
       "\n",
       "                                       Genres    IMDB ID  Runtime  \\\n",
       "2307                    Action|Crime|Thriller  tt1179034       92   \n",
       "2672  Action|Adventure|Animation|Comedy|Drama  tt1430607       97   \n",
       "619               Action|Comedy|Drama|Romance  tt4513674       96   \n",
       "2031                        Documentary|Drama  tt1687247       95   \n",
       "1141                          Action|Thriller  tt0477080       98   \n",
       "\n",
       "     YouTube Trailer  Rating  \\\n",
       "2307     CDR4WLX7V-I     6.5   \n",
       "2672     eMiyMkS1DNY     7.1   \n",
       "619      Rl4X6pFfmTI     6.6   \n",
       "2031     bT_UmBHMYzg     7.7   \n",
       "1141     fyuoIqeL-bc     6.8   \n",
       "\n",
       "                                           Movie Poster        Director  \\\n",
       "2307  https://hydramovies.com/wp-content/uploads/201...    Pierre Morel   \n",
       "2672  https://hydramovies.com/wp-content/uploads/201...     Sarah Smith   \n",
       "619   https://hydramovies.com/wp-content/uploads/201...     Woody Allen   \n",
       "2031  https://hydramovies.com/wp-content/uploads/201...  Loressa Clisby   \n",
       "1141  https://hydramovies.com/wp-content/uploads/201...      Tony Scott   \n",
       "\n",
       "             Writers                                               Cast  \n",
       "2307       Adi Hasak  John Travolta|Jonathan Rhys Meyers|Kasia Smutniak  \n",
       "2672   Peter Baynham              Bill Nighy|James McAvoy|Jim Broadbent  \n",
       "619      Woody Allen       Jesse Eisenberg|Kristen Stewart|Steve Carell  \n",
       "2031  Hiroaki Aikawa                                                NaN  \n",
       "1141    Mark Bomback        Chris Pine|Denzel Washington|Rosario Dawson  "
      ]
     },
     "execution_count": 8,
     "metadata": {},
     "output_type": "execute_result"
    }
   ],
   "source": [
    "movies_first.sample(5, random_state=41)"
   ]
  },
  {
   "cell_type": "markdown",
   "metadata": {},
   "source": [
    "Cast column has null values too. We summerize that the Rating & Runtime column being the center of our study are the most important ones and it appears they have null values."
   ]
  },
  {
   "cell_type": "markdown",
   "metadata": {},
   "source": [
    "__2. Checking the second dataset (movies_sec) visually via viewing the first 5 rows and another 5 random rows.__"
   ]
  },
  {
   "cell_type": "code",
   "execution_count": 9,
   "metadata": {
    "scrolled": true
   },
   "outputs": [
    {
     "data": {
      "text/html": [
       "<div>\n",
       "<style scoped>\n",
       "    .dataframe tbody tr th:only-of-type {\n",
       "        vertical-align: middle;\n",
       "    }\n",
       "\n",
       "    .dataframe tbody tr th {\n",
       "        vertical-align: top;\n",
       "    }\n",
       "\n",
       "    .dataframe thead th {\n",
       "        text-align: right;\n",
       "    }\n",
       "</style>\n",
       "<table border=\"1\" class=\"dataframe\">\n",
       "  <thead>\n",
       "    <tr style=\"text-align: right;\">\n",
       "      <th></th>\n",
       "      <th>Title</th>\n",
       "      <th>Rating</th>\n",
       "      <th>Genre</th>\n",
       "      <th>Runtime</th>\n",
       "    </tr>\n",
       "  </thead>\n",
       "  <tbody>\n",
       "    <tr>\n",
       "      <th>0</th>\n",
       "      <td>The Matrix</td>\n",
       "      <td>8.7</td>\n",
       "      <td>Action, Sci-Fi</td>\n",
       "      <td>136 min</td>\n",
       "    </tr>\n",
       "    <tr>\n",
       "      <th>1</th>\n",
       "      <td>The Lord of the Rings: The Fellowship of the Ring</td>\n",
       "      <td>8.9</td>\n",
       "      <td>Action, Adventure, Drama</td>\n",
       "      <td>178 min</td>\n",
       "    </tr>\n",
       "    <tr>\n",
       "      <th>2</th>\n",
       "      <td>Inception</td>\n",
       "      <td>8.8</td>\n",
       "      <td>Action, Adventure, Sci-Fi</td>\n",
       "      <td>148 min</td>\n",
       "    </tr>\n",
       "    <tr>\n",
       "      <th>3</th>\n",
       "      <td>The Dark Knight</td>\n",
       "      <td>9.0</td>\n",
       "      <td>Action, Crime, Drama</td>\n",
       "      <td>152 min</td>\n",
       "    </tr>\n",
       "    <tr>\n",
       "      <th>4</th>\n",
       "      <td>Star Wars: Episode IV - A New Hope</td>\n",
       "      <td>8.6</td>\n",
       "      <td>Action, Adventure, Fantasy</td>\n",
       "      <td>121 min</td>\n",
       "    </tr>\n",
       "  </tbody>\n",
       "</table>\n",
       "</div>"
      ],
      "text/plain": [
       "                                               Title  Rating  \\\n",
       "0                                         The Matrix     8.7   \n",
       "1  The Lord of the Rings: The Fellowship of the Ring     8.9   \n",
       "2                                          Inception     8.8   \n",
       "3                                    The Dark Knight     9.0   \n",
       "4                 Star Wars: Episode IV - A New Hope     8.6   \n",
       "\n",
       "                        Genre  Runtime  \n",
       "0              Action, Sci-Fi  136 min  \n",
       "1    Action, Adventure, Drama  178 min  \n",
       "2   Action, Adventure, Sci-Fi  148 min  \n",
       "3        Action, Crime, Drama  152 min  \n",
       "4  Action, Adventure, Fantasy  121 min  "
      ]
     },
     "execution_count": 9,
     "metadata": {},
     "output_type": "execute_result"
    }
   ],
   "source": [
    "movies_sec.head()"
   ]
  },
  {
   "cell_type": "code",
   "execution_count": 10,
   "metadata": {
    "id": "SpW59kh-zl8d"
   },
   "outputs": [
    {
     "data": {
      "text/html": [
       "<div>\n",
       "<style scoped>\n",
       "    .dataframe tbody tr th:only-of-type {\n",
       "        vertical-align: middle;\n",
       "    }\n",
       "\n",
       "    .dataframe tbody tr th {\n",
       "        vertical-align: top;\n",
       "    }\n",
       "\n",
       "    .dataframe thead th {\n",
       "        text-align: right;\n",
       "    }\n",
       "</style>\n",
       "<table border=\"1\" class=\"dataframe\">\n",
       "  <thead>\n",
       "    <tr style=\"text-align: right;\">\n",
       "      <th></th>\n",
       "      <th>Title</th>\n",
       "      <th>Rating</th>\n",
       "      <th>Genre</th>\n",
       "      <th>Runtime</th>\n",
       "    </tr>\n",
       "  </thead>\n",
       "  <tbody>\n",
       "    <tr>\n",
       "      <th>613</th>\n",
       "      <td>Bachelor Party</td>\n",
       "      <td>6.3</td>\n",
       "      <td>Comedy</td>\n",
       "      <td>105 min</td>\n",
       "    </tr>\n",
       "    <tr>\n",
       "      <th>451</th>\n",
       "      <td>#DUPE#</td>\n",
       "      <td>NaN</td>\n",
       "      <td>NaN</td>\n",
       "      <td>NaN</td>\n",
       "    </tr>\n",
       "    <tr>\n",
       "      <th>731</th>\n",
       "      <td>Pismak</td>\n",
       "      <td>6.4</td>\n",
       "      <td>Drama</td>\n",
       "      <td>120 min</td>\n",
       "    </tr>\n",
       "    <tr>\n",
       "      <th>436</th>\n",
       "      <td>Egon Schiele: Excess and Punishment</td>\n",
       "      <td>5.9</td>\n",
       "      <td>Biography, Drama</td>\n",
       "      <td>95 min</td>\n",
       "    </tr>\n",
       "    <tr>\n",
       "      <th>275</th>\n",
       "      <td>The Mighty Anselmo and His Squire</td>\n",
       "      <td>6.2</td>\n",
       "      <td>Comedy</td>\n",
       "      <td>98 min</td>\n",
       "    </tr>\n",
       "  </tbody>\n",
       "</table>\n",
       "</div>"
      ],
      "text/plain": [
       "                                   Title  Rating             Genre  Runtime\n",
       "613                       Bachelor Party     6.3            Comedy  105 min\n",
       "451                               #DUPE#     NaN               NaN      NaN\n",
       "731                               Pismak     6.4             Drama  120 min\n",
       "436  Egon Schiele: Excess and Punishment     5.9  Biography, Drama   95 min\n",
       "275    The Mighty Anselmo and His Squire     6.2            Comedy   98 min"
      ]
     },
     "execution_count": 10,
     "metadata": {},
     "output_type": "execute_result"
    }
   ],
   "source": [
    "movies_sec.sample(5, random_state=42)"
   ]
  },
  {
   "cell_type": "markdown",
   "metadata": {},
   "source": [
    "Apparently this dataset has null values in Runtime, Genre, Rating columns too. "
   ]
  },
  {
   "cell_type": "markdown",
   "metadata": {},
   "source": [
    "---\n"
   ]
  },
  {
   "cell_type": "markdown",
   "metadata": {
    "id": "-qfcocStzsKg"
   },
   "source": [
    "### Inspecting the dataframe programmatically."
   ]
  },
  {
   "cell_type": "markdown",
   "metadata": {},
   "source": [
    "__1. Checking the first dataset (movies_first) programmatically.__"
   ]
  },
  {
   "cell_type": "code",
   "execution_count": 11,
   "metadata": {},
   "outputs": [
    {
     "data": {
      "text/plain": [
       "(3940, 13)"
      ]
     },
     "execution_count": 11,
     "metadata": {},
     "output_type": "execute_result"
    }
   ],
   "source": [
    "movies_first.shape"
   ]
  },
  {
   "cell_type": "markdown",
   "metadata": {},
   "source": [
    "This data has the complete number of rows as mentioned in Kaggle \"weighing in at an impressive 3,940 movies total\"."
   ]
  },
  {
   "cell_type": "code",
   "execution_count": 12,
   "metadata": {
    "scrolled": true
   },
   "outputs": [
    {
     "data": {
      "text/plain": [
       "Title               0\n",
       "Year                0\n",
       "Summary             5\n",
       "Short Summary       1\n",
       "Genres              0\n",
       "IMDB ID             0\n",
       "Runtime             0\n",
       "YouTube Trailer    47\n",
       "Rating              0\n",
       "Movie Poster        0\n",
       "Director            0\n",
       "Writers            18\n",
       "Cast               24\n",
       "dtype: int64"
      ]
     },
     "execution_count": 12,
     "metadata": {},
     "output_type": "execute_result"
    }
   ],
   "source": [
    "movies_first.isnull().sum()"
   ]
  },
  {
   "cell_type": "markdown",
   "metadata": {},
   "source": [
    "As we focus on the Runtime, Rating columns this shows they do not have any null values which is invalid and leads us to the next quality issue."
   ]
  },
  {
   "cell_type": "code",
   "execution_count": 13,
   "metadata": {
    "scrolled": true
   },
   "outputs": [
    {
     "data": {
      "text/plain": [
       "193"
      ]
     },
     "execution_count": 13,
     "metadata": {},
     "output_type": "execute_result"
    }
   ],
   "source": [
    "movies_first[movies_first['Runtime'] == 0 ].shape[0]"
   ]
  },
  {
   "cell_type": "markdown",
   "metadata": {},
   "source": [
    "Rating column has empty records that need to be handled in the cleaning stage."
   ]
  },
  {
   "cell_type": "code",
   "execution_count": 14,
   "metadata": {},
   "outputs": [
    {
     "data": {
      "text/plain": [
       "0"
      ]
     },
     "execution_count": 14,
     "metadata": {},
     "output_type": "execute_result"
    }
   ],
   "source": [
    "movies_first[movies_first['Rating'] == 0 ].shape[0]"
   ]
  },
  {
   "cell_type": "markdown",
   "metadata": {},
   "source": [
    "No null values in this column."
   ]
  },
  {
   "cell_type": "markdown",
   "metadata": {},
   "source": [
    "__2. Checking the second dataset (movies_sec) programmatically.__"
   ]
  },
  {
   "cell_type": "code",
   "execution_count": 15,
   "metadata": {},
   "outputs": [
    {
     "data": {
      "text/plain": [
       "(985, 4)"
      ]
     },
     "execution_count": 15,
     "metadata": {},
     "output_type": "execute_result"
    }
   ],
   "source": [
    "movies_sec.shape"
   ]
  },
  {
   "cell_type": "markdown",
   "metadata": {},
   "source": [
    "I have acquired 985 records via the API request which is true as saved into the csv file."
   ]
  },
  {
   "cell_type": "code",
   "execution_count": 16,
   "metadata": {},
   "outputs": [
    {
     "data": {
      "text/plain": [
       "Title        0\n",
       "Rating     133\n",
       "Genre       96\n",
       "Runtime    103\n",
       "dtype: int64"
      ]
     },
     "execution_count": 16,
     "metadata": {},
     "output_type": "execute_result"
    }
   ],
   "source": [
    "movies_sec.isnull().sum()"
   ]
  },
  {
   "cell_type": "markdown",
   "metadata": {},
   "source": [
    "There is 133 null values in the Rating, 103 in Runtime columns."
   ]
  },
  {
   "cell_type": "code",
   "execution_count": 17,
   "metadata": {},
   "outputs": [
    {
     "data": {
      "text/plain": [
       "0"
      ]
     },
     "execution_count": 17,
     "metadata": {},
     "output_type": "execute_result"
    }
   ],
   "source": [
    "movies_sec[movies_sec['Runtime'] == 0 ].shape[0]"
   ]
  },
  {
   "cell_type": "markdown",
   "metadata": {},
   "source": [
    "Both datasets contain null values which will be handled in the cleaning stage."
   ]
  },
  {
   "cell_type": "markdown",
   "metadata": {},
   "source": [
    "---\n"
   ]
  },
  {
   "cell_type": "markdown",
   "metadata": {
    "id": "8Be77N4I1AmE"
   },
   "source": [
    "### Validity:"
   ]
  },
  {
   "cell_type": "markdown",
   "metadata": {
    "id": "iMhHyiyLM2I3"
   },
   "source": [
    "Checking: **Misrepresented** null values and **erroneous data types.**"
   ]
  },
  {
   "cell_type": "markdown",
   "metadata": {},
   "source": [
    "__a. Visually & Programmatically for the First Dataset:__"
   ]
  },
  {
   "cell_type": "code",
   "execution_count": 18,
   "metadata": {
    "scrolled": true
   },
   "outputs": [
    {
     "data": {
      "text/html": [
       "<div>\n",
       "<style scoped>\n",
       "    .dataframe tbody tr th:only-of-type {\n",
       "        vertical-align: middle;\n",
       "    }\n",
       "\n",
       "    .dataframe tbody tr th {\n",
       "        vertical-align: top;\n",
       "    }\n",
       "\n",
       "    .dataframe thead th {\n",
       "        text-align: right;\n",
       "    }\n",
       "</style>\n",
       "<table border=\"1\" class=\"dataframe\">\n",
       "  <thead>\n",
       "    <tr style=\"text-align: right;\">\n",
       "      <th></th>\n",
       "      <th>Title</th>\n",
       "      <th>Year</th>\n",
       "      <th>Summary</th>\n",
       "      <th>Short Summary</th>\n",
       "      <th>Genres</th>\n",
       "      <th>IMDB ID</th>\n",
       "      <th>Runtime</th>\n",
       "      <th>YouTube Trailer</th>\n",
       "      <th>Rating</th>\n",
       "      <th>Movie Poster</th>\n",
       "      <th>Director</th>\n",
       "      <th>Writers</th>\n",
       "      <th>Cast</th>\n",
       "    </tr>\n",
       "  </thead>\n",
       "  <tbody>\n",
       "    <tr>\n",
       "      <th>0</th>\n",
       "      <td>Patton Oswalt: Annihilation</td>\n",
       "      <td>2017</td>\n",
       "      <td>Patton Oswald, despite a personal tragedy, pro...</td>\n",
       "      <td>Patton Oswalt, despite a personal tragedy, pro...</td>\n",
       "      <td>Uncategorized</td>\n",
       "      <td>tt7026230</td>\n",
       "      <td>66</td>\n",
       "      <td>4hZi5QaMBFc</td>\n",
       "      <td>7.4</td>\n",
       "      <td>https://hydramovies.com/wp-content/uploads/201...</td>\n",
       "      <td>Bobcat Goldthwait</td>\n",
       "      <td>Patton Oswalt</td>\n",
       "      <td>Patton Oswalt</td>\n",
       "    </tr>\n",
       "  </tbody>\n",
       "</table>\n",
       "</div>"
      ],
      "text/plain": [
       "                         Title  Year  \\\n",
       "0  Patton Oswalt: Annihilation  2017   \n",
       "\n",
       "                                             Summary  \\\n",
       "0  Patton Oswald, despite a personal tragedy, pro...   \n",
       "\n",
       "                                       Short Summary         Genres  \\\n",
       "0  Patton Oswalt, despite a personal tragedy, pro...  Uncategorized   \n",
       "\n",
       "     IMDB ID  Runtime YouTube Trailer  Rating  \\\n",
       "0  tt7026230       66     4hZi5QaMBFc     7.4   \n",
       "\n",
       "                                        Movie Poster           Director  \\\n",
       "0  https://hydramovies.com/wp-content/uploads/201...  Bobcat Goldthwait   \n",
       "\n",
       "         Writers           Cast  \n",
       "0  Patton Oswalt  Patton Oswalt  "
      ]
     },
     "execution_count": 18,
     "metadata": {},
     "output_type": "execute_result"
    }
   ],
   "source": [
    "movies_first.head(1)"
   ]
  },
  {
   "cell_type": "code",
   "execution_count": 19,
   "metadata": {
    "scrolled": true
   },
   "outputs": [
    {
     "data": {
      "text/plain": [
       "Title               object\n",
       "Year                 int64\n",
       "Summary             object\n",
       "Short Summary       object\n",
       "Genres              object\n",
       "IMDB ID             object\n",
       "Runtime              int64\n",
       "YouTube Trailer     object\n",
       "Rating             float64\n",
       "Movie Poster        object\n",
       "Director            object\n",
       "Writers             object\n",
       "Cast                object\n",
       "dtype: object"
      ]
     },
     "execution_count": 19,
     "metadata": {},
     "output_type": "execute_result"
    }
   ],
   "source": [
    "movies_first.dtypes"
   ]
  },
  {
   "cell_type": "code",
   "execution_count": 20,
   "metadata": {},
   "outputs": [
    {
     "data": {
      "text/html": [
       "<div>\n",
       "<style scoped>\n",
       "    .dataframe tbody tr th:only-of-type {\n",
       "        vertical-align: middle;\n",
       "    }\n",
       "\n",
       "    .dataframe tbody tr th {\n",
       "        vertical-align: top;\n",
       "    }\n",
       "\n",
       "    .dataframe thead th {\n",
       "        text-align: right;\n",
       "    }\n",
       "</style>\n",
       "<table border=\"1\" class=\"dataframe\">\n",
       "  <thead>\n",
       "    <tr style=\"text-align: right;\">\n",
       "      <th></th>\n",
       "      <th>Year</th>\n",
       "      <th>Runtime</th>\n",
       "      <th>Rating</th>\n",
       "    </tr>\n",
       "  </thead>\n",
       "  <tbody>\n",
       "    <tr>\n",
       "      <th>count</th>\n",
       "      <td>3940.000000</td>\n",
       "      <td>3940.000000</td>\n",
       "      <td>3940.000000</td>\n",
       "    </tr>\n",
       "    <tr>\n",
       "      <th>mean</th>\n",
       "      <td>2012.132741</td>\n",
       "      <td>100.353553</td>\n",
       "      <td>6.555685</td>\n",
       "    </tr>\n",
       "    <tr>\n",
       "      <th>std</th>\n",
       "      <td>4.821189</td>\n",
       "      <td>29.798215</td>\n",
       "      <td>0.892572</td>\n",
       "    </tr>\n",
       "    <tr>\n",
       "      <th>min</th>\n",
       "      <td>2000.000000</td>\n",
       "      <td>0.000000</td>\n",
       "      <td>1.700000</td>\n",
       "    </tr>\n",
       "    <tr>\n",
       "      <th>25%</th>\n",
       "      <td>2009.000000</td>\n",
       "      <td>91.000000</td>\n",
       "      <td>6.100000</td>\n",
       "    </tr>\n",
       "    <tr>\n",
       "      <th>50%</th>\n",
       "      <td>2013.000000</td>\n",
       "      <td>102.000000</td>\n",
       "      <td>6.600000</td>\n",
       "    </tr>\n",
       "    <tr>\n",
       "      <th>75%</th>\n",
       "      <td>2016.000000</td>\n",
       "      <td>115.000000</td>\n",
       "      <td>7.100000</td>\n",
       "    </tr>\n",
       "    <tr>\n",
       "      <th>max</th>\n",
       "      <td>2018.000000</td>\n",
       "      <td>338.000000</td>\n",
       "      <td>9.500000</td>\n",
       "    </tr>\n",
       "  </tbody>\n",
       "</table>\n",
       "</div>"
      ],
      "text/plain": [
       "              Year      Runtime       Rating\n",
       "count  3940.000000  3940.000000  3940.000000\n",
       "mean   2012.132741   100.353553     6.555685\n",
       "std       4.821189    29.798215     0.892572\n",
       "min    2000.000000     0.000000     1.700000\n",
       "25%    2009.000000    91.000000     6.100000\n",
       "50%    2013.000000   102.000000     6.600000\n",
       "75%    2016.000000   115.000000     7.100000\n",
       "max    2018.000000   338.000000     9.500000"
      ]
     },
     "execution_count": 20,
     "metadata": {},
     "output_type": "execute_result"
    }
   ],
   "source": [
    "movies_first.describe()"
   ]
  },
  {
   "cell_type": "markdown",
   "metadata": {},
   "source": [
    "Since __Year__ min: 2000 and max: 2018, it can be enhanced into __int16__.\n",
    "\n",
    "Also, for __Runtime__ having min: 0 max: 338, it can be enhnaced into __int16__ thus eliminating the seconds.\n",
    "\n",
    "same goes for __Rating__ having min: 1.7 max: 9.5 it can be enhnaced into __float16.__"
   ]
  },
  {
   "cell_type": "code",
   "execution_count": 21,
   "metadata": {
    "id": "bnviRCUI-bb7"
   },
   "outputs": [
    {
     "data": {
      "text/plain": [
       "25"
      ]
     },
     "execution_count": 21,
     "metadata": {},
     "output_type": "execute_result"
    }
   ],
   "source": [
    "movies_first[movies_first['Genres'] == 'Uncategorized' ].shape[0]"
   ]
  },
  {
   "cell_type": "markdown",
   "metadata": {},
   "source": [
    "-There are 25 movies labelled as 'Uncategorized' instead of NaN."
   ]
  },
  {
   "cell_type": "code",
   "execution_count": 22,
   "metadata": {},
   "outputs": [
    {
     "data": {
      "text/plain": [
       "193"
      ]
     },
     "execution_count": 22,
     "metadata": {},
     "output_type": "execute_result"
    }
   ],
   "source": [
    "movies_first[movies_first['Runtime'] == 0 ].shape[0]"
   ]
  },
  {
   "cell_type": "markdown",
   "metadata": {},
   "source": [
    "-There are 193 movies with the value of 0 instead of NaN."
   ]
  },
  {
   "cell_type": "markdown",
   "metadata": {},
   "source": [
    "As the misrepresented data leads to unusable data so both issues this and erroneous data types will be handled in the cleaning stage."
   ]
  },
  {
   "cell_type": "markdown",
   "metadata": {},
   "source": [
    "__b. Visually & Programmatically for the Second Dataset:__"
   ]
  },
  {
   "cell_type": "code",
   "execution_count": 23,
   "metadata": {},
   "outputs": [
    {
     "data": {
      "text/html": [
       "<div>\n",
       "<style scoped>\n",
       "    .dataframe tbody tr th:only-of-type {\n",
       "        vertical-align: middle;\n",
       "    }\n",
       "\n",
       "    .dataframe tbody tr th {\n",
       "        vertical-align: top;\n",
       "    }\n",
       "\n",
       "    .dataframe thead th {\n",
       "        text-align: right;\n",
       "    }\n",
       "</style>\n",
       "<table border=\"1\" class=\"dataframe\">\n",
       "  <thead>\n",
       "    <tr style=\"text-align: right;\">\n",
       "      <th></th>\n",
       "      <th>Title</th>\n",
       "      <th>Rating</th>\n",
       "      <th>Genre</th>\n",
       "      <th>Runtime</th>\n",
       "    </tr>\n",
       "  </thead>\n",
       "  <tbody>\n",
       "    <tr>\n",
       "      <th>0</th>\n",
       "      <td>The Matrix</td>\n",
       "      <td>8.7</td>\n",
       "      <td>Action, Sci-Fi</td>\n",
       "      <td>136 min</td>\n",
       "    </tr>\n",
       "  </tbody>\n",
       "</table>\n",
       "</div>"
      ],
      "text/plain": [
       "        Title  Rating           Genre  Runtime\n",
       "0  The Matrix     8.7  Action, Sci-Fi  136 min"
      ]
     },
     "execution_count": 23,
     "metadata": {},
     "output_type": "execute_result"
    }
   ],
   "source": [
    "movies_sec.head(1)"
   ]
  },
  {
   "cell_type": "code",
   "execution_count": 24,
   "metadata": {
    "scrolled": true
   },
   "outputs": [
    {
     "data": {
      "text/plain": [
       "Title       object\n",
       "Rating     float64\n",
       "Genre       object\n",
       "Runtime     object\n",
       "dtype: object"
      ]
     },
     "execution_count": 24,
     "metadata": {},
     "output_type": "execute_result"
    }
   ],
   "source": [
    "movies_sec.dtypes"
   ]
  },
  {
   "cell_type": "code",
   "execution_count": 25,
   "metadata": {},
   "outputs": [
    {
     "data": {
      "text/html": [
       "<div>\n",
       "<style scoped>\n",
       "    .dataframe tbody tr th:only-of-type {\n",
       "        vertical-align: middle;\n",
       "    }\n",
       "\n",
       "    .dataframe tbody tr th {\n",
       "        vertical-align: top;\n",
       "    }\n",
       "\n",
       "    .dataframe thead th {\n",
       "        text-align: right;\n",
       "    }\n",
       "</style>\n",
       "<table border=\"1\" class=\"dataframe\">\n",
       "  <thead>\n",
       "    <tr style=\"text-align: right;\">\n",
       "      <th></th>\n",
       "      <th>Rating</th>\n",
       "    </tr>\n",
       "  </thead>\n",
       "  <tbody>\n",
       "    <tr>\n",
       "      <th>count</th>\n",
       "      <td>852.000000</td>\n",
       "    </tr>\n",
       "    <tr>\n",
       "      <th>mean</th>\n",
       "      <td>6.390962</td>\n",
       "    </tr>\n",
       "    <tr>\n",
       "      <th>std</th>\n",
       "      <td>1.404065</td>\n",
       "    </tr>\n",
       "    <tr>\n",
       "      <th>min</th>\n",
       "      <td>2.000000</td>\n",
       "    </tr>\n",
       "    <tr>\n",
       "      <th>25%</th>\n",
       "      <td>5.400000</td>\n",
       "    </tr>\n",
       "    <tr>\n",
       "      <th>50%</th>\n",
       "      <td>6.500000</td>\n",
       "    </tr>\n",
       "    <tr>\n",
       "      <th>75%</th>\n",
       "      <td>7.400000</td>\n",
       "    </tr>\n",
       "    <tr>\n",
       "      <th>max</th>\n",
       "      <td>9.300000</td>\n",
       "    </tr>\n",
       "  </tbody>\n",
       "</table>\n",
       "</div>"
      ],
      "text/plain": [
       "           Rating\n",
       "count  852.000000\n",
       "mean     6.390962\n",
       "std      1.404065\n",
       "min      2.000000\n",
       "25%      5.400000\n",
       "50%      6.500000\n",
       "75%      7.400000\n",
       "max      9.300000"
      ]
     },
     "execution_count": 25,
     "metadata": {},
     "output_type": "execute_result"
    }
   ],
   "source": [
    "movies_sec.describe()"
   ]
  },
  {
   "cell_type": "markdown",
   "metadata": {},
   "source": [
    "__Rating__ seems to be normally distributed with min: 2 max: 9.3 thus it can be enhanced into __float16__.\n",
    "\n",
    "__Runtime__ should be stored into a __int16__ rather than _object_ which makes it managable and benefecial for the study focus and more consistent with the first dataset.\n"
   ]
  },
  {
   "cell_type": "markdown",
   "metadata": {},
   "source": [
    "***"
   ]
  },
  {
   "cell_type": "markdown",
   "metadata": {},
   "source": [
    "### Consistency:"
   ]
  },
  {
   "cell_type": "code",
   "execution_count": 26,
   "metadata": {},
   "outputs": [
    {
     "data": {
      "text/plain": [
       "'Drama|Music|Romance'"
      ]
     },
     "execution_count": 26,
     "metadata": {},
     "output_type": "execute_result"
    }
   ],
   "source": [
    "movies_first.Genres[10]"
   ]
  },
  {
   "cell_type": "code",
   "execution_count": 27,
   "metadata": {},
   "outputs": [
    {
     "data": {
      "text/plain": [
       "'Action, Sci-Fi'"
      ]
     },
     "execution_count": 27,
     "metadata": {},
     "output_type": "execute_result"
    }
   ],
   "source": [
    "movies_sec.Genre[0]"
   ]
  },
  {
   "cell_type": "markdown",
   "metadata": {},
   "source": [
    "We notice that Genres are **separated by a comma in the second dataset** while the **first is separated by a vertical bar**, which is onconsistent.\n",
    "\n",
    "Moreover, the **Genre column names are the only inconsistent** ones betweent the two datasets."
   ]
  },
  {
   "cell_type": "markdown",
   "metadata": {},
   "source": [
    "---\n"
   ]
  },
  {
   "cell_type": "markdown",
   "metadata": {},
   "source": [
    "### Uniqueness:"
   ]
  },
  {
   "cell_type": "markdown",
   "metadata": {},
   "source": [
    "#### For the first Dataset:"
   ]
  },
  {
   "cell_type": "code",
   "execution_count": 28,
   "metadata": {
    "scrolled": false
   },
   "outputs": [
    {
     "name": "stdout",
     "output_type": "stream",
     "text": [
      "Title\n",
      "Beyond the Edge    2\n",
      "Restless           2\n",
      "Gold               2\n",
      "Fantastic Four     2\n",
      "Frozen             2\n",
      "Gifted             2\n",
      "The Colony         2\n",
      "The Outsider       2\n",
      "Wonder Woman       2\n",
      "Life               2\n",
      "Extinction         2\n",
      "Youth              2\n",
      "The Gift           2\n",
      "Name: count, dtype: int64\n"
     ]
    }
   ],
   "source": [
    "duplicate_counts = movies_first['Title'].value_counts()[movies_first['Title'].value_counts() > 1]\n",
    "print(duplicate_counts)"
   ]
  },
  {
   "cell_type": "code",
   "execution_count": 29,
   "metadata": {},
   "outputs": [],
   "source": [
    "# Identify duplicate rows based on the 'Title' column\n",
    "duplicates = movies_first[movies_first.duplicated('Title', keep=False)]\n",
    "duplicates_df = pd.DataFrame(duplicates)"
   ]
  },
  {
   "cell_type": "code",
   "execution_count": 30,
   "metadata": {},
   "outputs": [
    {
     "data": {
      "text/plain": [
       "26"
      ]
     },
     "execution_count": 30,
     "metadata": {},
     "output_type": "execute_result"
    }
   ],
   "source": [
    "duplicates_df.shape[0]"
   ]
  },
  {
   "cell_type": "markdown",
   "metadata": {},
   "source": [
    "There are 13 movies that are duplicated!"
   ]
  },
  {
   "cell_type": "code",
   "execution_count": 31,
   "metadata": {
    "scrolled": false
   },
   "outputs": [
    {
     "data": {
      "text/html": [
       "<div>\n",
       "<style scoped>\n",
       "    .dataframe tbody tr th:only-of-type {\n",
       "        vertical-align: middle;\n",
       "    }\n",
       "\n",
       "    .dataframe tbody tr th {\n",
       "        vertical-align: top;\n",
       "    }\n",
       "\n",
       "    .dataframe thead th {\n",
       "        text-align: right;\n",
       "    }\n",
       "</style>\n",
       "<table border=\"1\" class=\"dataframe\">\n",
       "  <thead>\n",
       "    <tr style=\"text-align: right;\">\n",
       "      <th></th>\n",
       "      <th>Title</th>\n",
       "      <th>Year</th>\n",
       "      <th>Summary</th>\n",
       "      <th>Short Summary</th>\n",
       "      <th>Genres</th>\n",
       "      <th>IMDB ID</th>\n",
       "      <th>Runtime</th>\n",
       "      <th>YouTube Trailer</th>\n",
       "      <th>Rating</th>\n",
       "      <th>Movie Poster</th>\n",
       "      <th>Director</th>\n",
       "      <th>Writers</th>\n",
       "      <th>Cast</th>\n",
       "    </tr>\n",
       "  </thead>\n",
       "  <tbody>\n",
       "    <tr>\n",
       "      <th>360</th>\n",
       "      <td>Wonder Woman</td>\n",
       "      <td>2017</td>\n",
       "      <td>Diana, princess of the Amazons, trained to be ...</td>\n",
       "      <td>When a pilot crashes and tells of conflict in ...</td>\n",
       "      <td>Action|Adventure|Fantasy|Sci-Fi|War</td>\n",
       "      <td>tt0451279</td>\n",
       "      <td>141</td>\n",
       "      <td>piIUpbIlp8U</td>\n",
       "      <td>7.5</td>\n",
       "      <td>https://hydramovies.com/wp-content/uploads/201...</td>\n",
       "      <td>Patty Jenkins</td>\n",
       "      <td>Allan Heinberg</td>\n",
       "      <td>Chris Pine|Gal Gadot</td>\n",
       "    </tr>\n",
       "    <tr>\n",
       "      <th>1068</th>\n",
       "      <td>Wonder Woman</td>\n",
       "      <td>2009</td>\n",
       "      <td>In antiquity, the Amazons defeat the war god, ...</td>\n",
       "      <td>A modern man's trespass of the island of the A...</td>\n",
       "      <td>Action|Adventure|Animation|Fantasy|Sci-Fi</td>\n",
       "      <td>tt1186373</td>\n",
       "      <td>74</td>\n",
       "      <td>DIdUbj1REFw</td>\n",
       "      <td>7.4</td>\n",
       "      <td>https://hydramovies.com/wp-content/uploads/201...</td>\n",
       "      <td>Lauren Montgomery</td>\n",
       "      <td>William Moulton Marston</td>\n",
       "      <td>Keri Russell|Nathan Fillion</td>\n",
       "    </tr>\n",
       "  </tbody>\n",
       "</table>\n",
       "</div>"
      ],
      "text/plain": [
       "             Title  Year                                            Summary  \\\n",
       "360   Wonder Woman  2017  Diana, princess of the Amazons, trained to be ...   \n",
       "1068  Wonder Woman  2009  In antiquity, the Amazons defeat the war god, ...   \n",
       "\n",
       "                                          Short Summary  \\\n",
       "360   When a pilot crashes and tells of conflict in ...   \n",
       "1068  A modern man's trespass of the island of the A...   \n",
       "\n",
       "                                         Genres    IMDB ID  Runtime  \\\n",
       "360         Action|Adventure|Fantasy|Sci-Fi|War  tt0451279      141   \n",
       "1068  Action|Adventure|Animation|Fantasy|Sci-Fi  tt1186373       74   \n",
       "\n",
       "     YouTube Trailer  Rating  \\\n",
       "360      piIUpbIlp8U     7.5   \n",
       "1068     DIdUbj1REFw     7.4   \n",
       "\n",
       "                                           Movie Poster           Director  \\\n",
       "360   https://hydramovies.com/wp-content/uploads/201...      Patty Jenkins   \n",
       "1068  https://hydramovies.com/wp-content/uploads/201...  Lauren Montgomery   \n",
       "\n",
       "                      Writers                         Cast  \n",
       "360            Allan Heinberg         Chris Pine|Gal Gadot  \n",
       "1068  William Moulton Marston  Keri Russell|Nathan Fillion  "
      ]
     },
     "execution_count": 31,
     "metadata": {},
     "output_type": "execute_result"
    }
   ],
   "source": [
    "duplicates_df[duplicates_df['Title'] == 'Wonder Woman']"
   ]
  },
  {
   "cell_type": "markdown",
   "metadata": {},
   "source": [
    "if we take any duplicate i.e: Wonder Woman or Frozen we notice that the records are __mostly different__, it's hard to determine which is right which leads to __cross checking if the same movies are in the other dataset or dropping them to get more valid & accurate results for our study.__"
   ]
  },
  {
   "cell_type": "markdown",
   "metadata": {},
   "source": [
    "#### For the Second Dataset:\n"
   ]
  },
  {
   "cell_type": "code",
   "execution_count": 32,
   "metadata": {},
   "outputs": [
    {
     "name": "stdout",
     "output_type": "stream",
     "text": [
      "Title\n",
      "#DUPE#                                            26\n",
      "Unknown                                            7\n",
      "Full Metal Jacket                                  5\n",
      "Goodfellas                                         4\n",
      "Sorcerer                                           3\n",
      "For a Few Dollars More                             3\n",
      "The Shining                                        3\n",
      "Casablanca                                         3\n",
      "Taxi Driver                                        3\n",
      "The Sting                                          3\n",
      "Cinema Paradiso                                    3\n",
      "Terror on the Beach                                2\n",
      "Jurassic Park                                      2\n",
      "Das Boot                                           2\n",
      "Apocalypse Now                                     2\n",
      "2001: A Space Odyssey                              2\n",
      "Vertigo                                            2\n",
      "Beauty and the Beast                               2\n",
      "The Lion King                                      2\n",
      "A Clockwork Orange                                 2\n",
      "Citizen Kane                                       2\n",
      "Paths of Glory                                     2\n",
      "Scarface                                           2\n",
      "Reservoir Dogs                                     2\n",
      "Singin' in the Rain                                2\n",
      "Chinatown                                          2\n",
      "Star Wars: Episode V - The Empire Strikes Back     2\n",
      "Forrest Gump                                       2\n",
      "Pilot                                              2\n",
      "Theo gegen den Rest der Welt                       2\n",
      "The Shawshank Redemption                           2\n",
      "One Flew Over the Cuckoo's Nest                    2\n",
      "M                                                  2\n",
      "The Good, the Bad and the Ugly                     2\n",
      "Aliens                                             2\n",
      "Name: count, dtype: int64\n"
     ]
    }
   ],
   "source": [
    "duplicate_counts2 = movies_sec['Title'].value_counts()[movies_sec['Title'].value_counts() > 1]\n",
    "print(duplicate_counts2)"
   ]
  },
  {
   "cell_type": "code",
   "execution_count": 33,
   "metadata": {},
   "outputs": [],
   "source": [
    "# Identify duplicate rows based on the 'Title' column\n",
    "duplicates2 = movies_sec[movies_sec.duplicated('Title', keep=False)]\n",
    "duplicates_df2 = pd.DataFrame(duplicates)"
   ]
  },
  {
   "cell_type": "code",
   "execution_count": 34,
   "metadata": {
    "scrolled": true
   },
   "outputs": [
    {
     "data": {
      "text/html": [
       "<div>\n",
       "<style scoped>\n",
       "    .dataframe tbody tr th:only-of-type {\n",
       "        vertical-align: middle;\n",
       "    }\n",
       "\n",
       "    .dataframe tbody tr th {\n",
       "        vertical-align: top;\n",
       "    }\n",
       "\n",
       "    .dataframe thead th {\n",
       "        text-align: right;\n",
       "    }\n",
       "</style>\n",
       "<table border=\"1\" class=\"dataframe\">\n",
       "  <thead>\n",
       "    <tr style=\"text-align: right;\">\n",
       "      <th></th>\n",
       "      <th>Title</th>\n",
       "      <th>Year</th>\n",
       "      <th>Summary</th>\n",
       "      <th>Short Summary</th>\n",
       "      <th>Genres</th>\n",
       "      <th>IMDB ID</th>\n",
       "      <th>Runtime</th>\n",
       "      <th>YouTube Trailer</th>\n",
       "      <th>Rating</th>\n",
       "      <th>Movie Poster</th>\n",
       "      <th>Director</th>\n",
       "      <th>Writers</th>\n",
       "      <th>Cast</th>\n",
       "    </tr>\n",
       "  </thead>\n",
       "  <tbody>\n",
       "  </tbody>\n",
       "</table>\n",
       "</div>"
      ],
      "text/plain": [
       "Empty DataFrame\n",
       "Columns: [Title, Year, Summary, Short Summary, Genres, IMDB ID, Runtime, YouTube Trailer, Rating, Movie Poster, Director, Writers, Cast]\n",
       "Index: []"
      ]
     },
     "execution_count": 34,
     "metadata": {},
     "output_type": "execute_result"
    }
   ],
   "source": [
    "duplicates_df2[duplicates_df2['Title'] == 'Forrest Gump']"
   ]
  },
  {
   "cell_type": "markdown",
   "metadata": {},
   "source": [
    "In this dataset we notice that there are duplicates yet they're all identical so we can drop the copy."
   ]
  },
  {
   "cell_type": "markdown",
   "metadata": {
    "id": "lXhGiYyiwwKN"
   },
   "source": [
    "### Tidiness Issue 1:"
   ]
  },
  {
   "cell_type": "markdown",
   "metadata": {},
   "source": [
    "#### a. Inspecting The First Dataset:"
   ]
  },
  {
   "cell_type": "code",
   "execution_count": 35,
   "metadata": {},
   "outputs": [
    {
     "data": {
      "text/html": [
       "<div>\n",
       "<style scoped>\n",
       "    .dataframe tbody tr th:only-of-type {\n",
       "        vertical-align: middle;\n",
       "    }\n",
       "\n",
       "    .dataframe tbody tr th {\n",
       "        vertical-align: top;\n",
       "    }\n",
       "\n",
       "    .dataframe thead th {\n",
       "        text-align: right;\n",
       "    }\n",
       "</style>\n",
       "<table border=\"1\" class=\"dataframe\">\n",
       "  <thead>\n",
       "    <tr style=\"text-align: right;\">\n",
       "      <th></th>\n",
       "      <th>Title</th>\n",
       "      <th>Year</th>\n",
       "      <th>Summary</th>\n",
       "      <th>Short Summary</th>\n",
       "      <th>Genres</th>\n",
       "      <th>IMDB ID</th>\n",
       "      <th>Runtime</th>\n",
       "      <th>YouTube Trailer</th>\n",
       "      <th>Rating</th>\n",
       "      <th>Movie Poster</th>\n",
       "      <th>Director</th>\n",
       "      <th>Writers</th>\n",
       "      <th>Cast</th>\n",
       "    </tr>\n",
       "  </thead>\n",
       "  <tbody>\n",
       "    <tr>\n",
       "      <th>0</th>\n",
       "      <td>Patton Oswalt: Annihilation</td>\n",
       "      <td>2017</td>\n",
       "      <td>Patton Oswald, despite a personal tragedy, pro...</td>\n",
       "      <td>Patton Oswalt, despite a personal tragedy, pro...</td>\n",
       "      <td>Uncategorized</td>\n",
       "      <td>tt7026230</td>\n",
       "      <td>66</td>\n",
       "      <td>4hZi5QaMBFc</td>\n",
       "      <td>7.4</td>\n",
       "      <td>https://hydramovies.com/wp-content/uploads/201...</td>\n",
       "      <td>Bobcat Goldthwait</td>\n",
       "      <td>Patton Oswalt</td>\n",
       "      <td>Patton Oswalt</td>\n",
       "    </tr>\n",
       "    <tr>\n",
       "      <th>1</th>\n",
       "      <td>New York Doll</td>\n",
       "      <td>2005</td>\n",
       "      <td>A recovering alcoholic and recently converted ...</td>\n",
       "      <td>A recovering alcoholic and recently converted ...</td>\n",
       "      <td>Documentary|Music</td>\n",
       "      <td>tt0436629</td>\n",
       "      <td>75</td>\n",
       "      <td>jwD04NsnLLg</td>\n",
       "      <td>7.9</td>\n",
       "      <td>https://hydramovies.com/wp-content/uploads/201...</td>\n",
       "      <td>Greg Whiteley</td>\n",
       "      <td>Arthur Kane</td>\n",
       "      <td>Sylvain Sylvain</td>\n",
       "    </tr>\n",
       "  </tbody>\n",
       "</table>\n",
       "</div>"
      ],
      "text/plain": [
       "                         Title  Year  \\\n",
       "0  Patton Oswalt: Annihilation  2017   \n",
       "1                New York Doll  2005   \n",
       "\n",
       "                                             Summary  \\\n",
       "0  Patton Oswald, despite a personal tragedy, pro...   \n",
       "1  A recovering alcoholic and recently converted ...   \n",
       "\n",
       "                                       Short Summary             Genres  \\\n",
       "0  Patton Oswalt, despite a personal tragedy, pro...      Uncategorized   \n",
       "1  A recovering alcoholic and recently converted ...  Documentary|Music   \n",
       "\n",
       "     IMDB ID  Runtime YouTube Trailer  Rating  \\\n",
       "0  tt7026230       66     4hZi5QaMBFc     7.4   \n",
       "1  tt0436629       75     jwD04NsnLLg     7.9   \n",
       "\n",
       "                                        Movie Poster           Director  \\\n",
       "0  https://hydramovies.com/wp-content/uploads/201...  Bobcat Goldthwait   \n",
       "1  https://hydramovies.com/wp-content/uploads/201...      Greg Whiteley   \n",
       "\n",
       "         Writers             Cast  \n",
       "0  Patton Oswalt    Patton Oswalt  \n",
       "1    Arthur Kane  Sylvain Sylvain  "
      ]
     },
     "execution_count": 35,
     "metadata": {},
     "output_type": "execute_result"
    }
   ],
   "source": [
    "movies_first.head(2)"
   ]
  },
  {
   "cell_type": "markdown",
   "metadata": {},
   "source": [
    "There are multiple values in the __Genres column__, should be separated or if not needed dropped same goes for __Summary and Short Summary__ which aren't needed in our study."
   ]
  },
  {
   "cell_type": "markdown",
   "metadata": {
    "id": "BTuQw7Rbsio4"
   },
   "source": [
    "#### b. Inspecting The Second Dataset:"
   ]
  },
  {
   "cell_type": "code",
   "execution_count": 36,
   "metadata": {},
   "outputs": [
    {
     "data": {
      "text/html": [
       "<div>\n",
       "<style scoped>\n",
       "    .dataframe tbody tr th:only-of-type {\n",
       "        vertical-align: middle;\n",
       "    }\n",
       "\n",
       "    .dataframe tbody tr th {\n",
       "        vertical-align: top;\n",
       "    }\n",
       "\n",
       "    .dataframe thead th {\n",
       "        text-align: right;\n",
       "    }\n",
       "</style>\n",
       "<table border=\"1\" class=\"dataframe\">\n",
       "  <thead>\n",
       "    <tr style=\"text-align: right;\">\n",
       "      <th></th>\n",
       "      <th>Title</th>\n",
       "      <th>Rating</th>\n",
       "      <th>Genre</th>\n",
       "      <th>Runtime</th>\n",
       "    </tr>\n",
       "  </thead>\n",
       "  <tbody>\n",
       "    <tr>\n",
       "      <th>0</th>\n",
       "      <td>The Matrix</td>\n",
       "      <td>8.7</td>\n",
       "      <td>Action, Sci-Fi</td>\n",
       "      <td>136 min</td>\n",
       "    </tr>\n",
       "  </tbody>\n",
       "</table>\n",
       "</div>"
      ],
      "text/plain": [
       "        Title  Rating           Genre  Runtime\n",
       "0  The Matrix     8.7  Action, Sci-Fi  136 min"
      ]
     },
     "execution_count": 36,
     "metadata": {},
     "output_type": "execute_result"
    }
   ],
   "source": [
    "movies_sec.head(1)"
   ]
  },
  {
   "cell_type": "markdown",
   "metadata": {},
   "source": [
    "There are multiple values in the __Genre column__, should be separated or if not needed dropped"
   ]
  },
  {
   "cell_type": "markdown",
   "metadata": {
    "id": "4ffMoRGSwzYj"
   },
   "source": [
    "### Tidiness Issue 2: "
   ]
  },
  {
   "cell_type": "code",
   "execution_count": 37,
   "metadata": {
    "id": "XUpeoqokw5Qt",
    "scrolled": true
   },
   "outputs": [
    {
     "data": {
      "text/plain": [
       "Runtime\n",
       "90 min        51\n",
       "100 min       38\n",
       "30 min        35\n",
       "98 min        30\n",
       "92 min        28\n",
       "              ..\n",
       "54 min         1\n",
       "29 min         1\n",
       "185 min        1\n",
       "68 min         1\n",
       "1 h 15 min     1\n",
       "Name: count, Length: 155, dtype: int64"
      ]
     },
     "execution_count": 37,
     "metadata": {},
     "output_type": "execute_result"
    }
   ],
   "source": [
    "movies_sec.Runtime.value_counts()"
   ]
  },
  {
   "cell_type": "markdown",
   "metadata": {
    "id": "c8JK4DoXxtFA"
   },
   "source": [
    "__Runtime__ has the min as a measurement unit with each value which should be reomved. There are values i.e: 1 h 15 min take hour as a representation instead of only using minutes to ensure consistency and validity."
   ]
  },
  {
   "cell_type": "markdown",
   "metadata": {
    "id": "D6gmLnBttpCh"
   },
   "source": [
    "## 3. Clean data"
   ]
  },
  {
   "cell_type": "markdown",
   "metadata": {},
   "source": [
    "## Copying the DataFrames."
   ]
  },
  {
   "cell_type": "code",
   "execution_count": 38,
   "metadata": {},
   "outputs": [
    {
     "data": {
      "text/html": [
       "<div>\n",
       "<style scoped>\n",
       "    .dataframe tbody tr th:only-of-type {\n",
       "        vertical-align: middle;\n",
       "    }\n",
       "\n",
       "    .dataframe tbody tr th {\n",
       "        vertical-align: top;\n",
       "    }\n",
       "\n",
       "    .dataframe thead th {\n",
       "        text-align: right;\n",
       "    }\n",
       "</style>\n",
       "<table border=\"1\" class=\"dataframe\">\n",
       "  <thead>\n",
       "    <tr style=\"text-align: right;\">\n",
       "      <th></th>\n",
       "      <th>Title</th>\n",
       "      <th>Year</th>\n",
       "      <th>Summary</th>\n",
       "      <th>Short Summary</th>\n",
       "      <th>Genres</th>\n",
       "      <th>IMDB ID</th>\n",
       "      <th>Runtime</th>\n",
       "      <th>YouTube Trailer</th>\n",
       "      <th>Rating</th>\n",
       "      <th>Movie Poster</th>\n",
       "      <th>Director</th>\n",
       "      <th>Writers</th>\n",
       "      <th>Cast</th>\n",
       "    </tr>\n",
       "  </thead>\n",
       "  <tbody>\n",
       "    <tr>\n",
       "      <th>0</th>\n",
       "      <td>Patton Oswalt: Annihilation</td>\n",
       "      <td>2017</td>\n",
       "      <td>Patton Oswald, despite a personal tragedy, pro...</td>\n",
       "      <td>Patton Oswalt, despite a personal tragedy, pro...</td>\n",
       "      <td>Uncategorized</td>\n",
       "      <td>tt7026230</td>\n",
       "      <td>66</td>\n",
       "      <td>4hZi5QaMBFc</td>\n",
       "      <td>7.4</td>\n",
       "      <td>https://hydramovies.com/wp-content/uploads/201...</td>\n",
       "      <td>Bobcat Goldthwait</td>\n",
       "      <td>Patton Oswalt</td>\n",
       "      <td>Patton Oswalt</td>\n",
       "    </tr>\n",
       "  </tbody>\n",
       "</table>\n",
       "</div>"
      ],
      "text/plain": [
       "                         Title  Year  \\\n",
       "0  Patton Oswalt: Annihilation  2017   \n",
       "\n",
       "                                             Summary  \\\n",
       "0  Patton Oswald, despite a personal tragedy, pro...   \n",
       "\n",
       "                                       Short Summary         Genres  \\\n",
       "0  Patton Oswalt, despite a personal tragedy, pro...  Uncategorized   \n",
       "\n",
       "     IMDB ID  Runtime YouTube Trailer  Rating  \\\n",
       "0  tt7026230       66     4hZi5QaMBFc     7.4   \n",
       "\n",
       "                                        Movie Poster           Director  \\\n",
       "0  https://hydramovies.com/wp-content/uploads/201...  Bobcat Goldthwait   \n",
       "\n",
       "         Writers           Cast  \n",
       "0  Patton Oswalt  Patton Oswalt  "
      ]
     },
     "execution_count": 38,
     "metadata": {},
     "output_type": "execute_result"
    }
   ],
   "source": [
    "first_clean=movies_first.copy()\n",
    "first_clean.head(1)"
   ]
  },
  {
   "cell_type": "code",
   "execution_count": 39,
   "metadata": {
    "scrolled": true
   },
   "outputs": [
    {
     "data": {
      "text/html": [
       "<div>\n",
       "<style scoped>\n",
       "    .dataframe tbody tr th:only-of-type {\n",
       "        vertical-align: middle;\n",
       "    }\n",
       "\n",
       "    .dataframe tbody tr th {\n",
       "        vertical-align: top;\n",
       "    }\n",
       "\n",
       "    .dataframe thead th {\n",
       "        text-align: right;\n",
       "    }\n",
       "</style>\n",
       "<table border=\"1\" class=\"dataframe\">\n",
       "  <thead>\n",
       "    <tr style=\"text-align: right;\">\n",
       "      <th></th>\n",
       "      <th>Title</th>\n",
       "      <th>Rating</th>\n",
       "      <th>Genre</th>\n",
       "      <th>Runtime</th>\n",
       "    </tr>\n",
       "  </thead>\n",
       "  <tbody>\n",
       "    <tr>\n",
       "      <th>0</th>\n",
       "      <td>The Matrix</td>\n",
       "      <td>8.7</td>\n",
       "      <td>Action, Sci-Fi</td>\n",
       "      <td>136 min</td>\n",
       "    </tr>\n",
       "  </tbody>\n",
       "</table>\n",
       "</div>"
      ],
      "text/plain": [
       "        Title  Rating           Genre  Runtime\n",
       "0  The Matrix     8.7  Action, Sci-Fi  136 min"
      ]
     },
     "execution_count": 39,
     "metadata": {},
     "output_type": "execute_result"
    }
   ],
   "source": [
    "second_clean=movies_sec.copy()\n",
    "second_clean.head(1)"
   ]
  },
  {
   "cell_type": "markdown",
   "metadata": {},
   "source": [
    "---"
   ]
  },
  {
   "cell_type": "markdown",
   "metadata": {},
   "source": [
    "### **Remove unnecessary variables for our study question:**"
   ]
  },
  {
   "cell_type": "markdown",
   "metadata": {},
   "source": [
    "the first dataframe has the most columns that aren't totally related:"
   ]
  },
  {
   "cell_type": "code",
   "execution_count": 40,
   "metadata": {},
   "outputs": [],
   "source": [
    "columns_to_drop = ['Director', 'Writers', 'Cast', 'Movie Poster', 'IMDB ID', 'YouTube Trailer', 'Summary', 'Short Summary','Year']\n",
    "\n",
    "first_clean = first_clean.drop(columns=columns_to_drop)"
   ]
  },
  {
   "cell_type": "code",
   "execution_count": 41,
   "metadata": {},
   "outputs": [
    {
     "data": {
      "text/html": [
       "<div>\n",
       "<style scoped>\n",
       "    .dataframe tbody tr th:only-of-type {\n",
       "        vertical-align: middle;\n",
       "    }\n",
       "\n",
       "    .dataframe tbody tr th {\n",
       "        vertical-align: top;\n",
       "    }\n",
       "\n",
       "    .dataframe thead th {\n",
       "        text-align: right;\n",
       "    }\n",
       "</style>\n",
       "<table border=\"1\" class=\"dataframe\">\n",
       "  <thead>\n",
       "    <tr style=\"text-align: right;\">\n",
       "      <th></th>\n",
       "      <th>Title</th>\n",
       "      <th>Genres</th>\n",
       "      <th>Runtime</th>\n",
       "      <th>Rating</th>\n",
       "    </tr>\n",
       "  </thead>\n",
       "  <tbody>\n",
       "    <tr>\n",
       "      <th>1571</th>\n",
       "      <td>Takers</td>\n",
       "      <td>Action|Crime|Thriller</td>\n",
       "      <td>107</td>\n",
       "      <td>6.2</td>\n",
       "    </tr>\n",
       "  </tbody>\n",
       "</table>\n",
       "</div>"
      ],
      "text/plain": [
       "       Title                 Genres  Runtime  Rating\n",
       "1571  Takers  Action|Crime|Thriller      107     6.2"
      ]
     },
     "execution_count": 41,
     "metadata": {},
     "output_type": "execute_result"
    }
   ],
   "source": [
    "first_clean.sample()"
   ]
  },
  {
   "cell_type": "markdown",
   "metadata": {},
   "source": [
    "Where as we'll keep the second dataframe columns as they're essential to our study."
   ]
  },
  {
   "cell_type": "markdown",
   "metadata": {},
   "source": [
    "---"
   ]
  },
  {
   "cell_type": "markdown",
   "metadata": {
    "id": "FmFhN52Yyn3l"
   },
   "source": [
    "### **Handling Duplicates**"
   ]
  },
  {
   "cell_type": "markdown",
   "metadata": {},
   "source": [
    "__a. The first dataframe:__\n",
    "\n",
    "There are duplicates with different values for multiple columns."
   ]
  },
  {
   "cell_type": "markdown",
   "metadata": {},
   "source": [
    "Cross checking if the duplicated movies exist in the second df , if so to keep the true values."
   ]
  },
  {
   "cell_type": "code",
   "execution_count": 42,
   "metadata": {
    "scrolled": true
   },
   "outputs": [
    {
     "name": "stdout",
     "output_type": "stream",
     "text": [
      "Duplicated movies in first_clean that exist in second_clean:\n",
      "Empty DataFrame\n",
      "Columns: [Title, Genres, Runtime, Rating]\n",
      "Index: []\n"
     ]
    }
   ],
   "source": [
    "duplicated_movies = first_clean[first_clean.duplicated(subset=['Title'])]\n",
    "common_movies = duplicated_movies[duplicated_movies['Title'].isin(second_clean['Title'])]\n",
    "\n",
    "print(\"Duplicated movies in first_clean that exist in second_clean:\")\n",
    "print(common_movies)\n"
   ]
  },
  {
   "cell_type": "markdown",
   "metadata": {},
   "source": [
    "We have an empty dataframe which leads us to dropping the duplictes to maintain more accurate results."
   ]
  },
  {
   "cell_type": "code",
   "execution_count": 43,
   "metadata": {},
   "outputs": [],
   "source": [
    "first_clean= first_clean.drop_duplicates(subset=['Title'], keep='first')"
   ]
  },
  {
   "cell_type": "markdown",
   "metadata": {},
   "source": [
    "To ensure all the duplicates in this df are dropped:"
   ]
  },
  {
   "cell_type": "code",
   "execution_count": 44,
   "metadata": {},
   "outputs": [
    {
     "data": {
      "text/plain": [
       "np.int64(0)"
      ]
     },
     "execution_count": 44,
     "metadata": {},
     "output_type": "execute_result"
    }
   ],
   "source": [
    "first_clean.duplicated().sum()"
   ]
  },
  {
   "cell_type": "markdown",
   "metadata": {},
   "source": [
    "__b. The second dataframe:__\n",
    "\n",
    "It has all the same rows copied twice, so dropping the copies."
   ]
  },
  {
   "cell_type": "code",
   "execution_count": 45,
   "metadata": {},
   "outputs": [],
   "source": [
    "second_clean= second_clean.drop_duplicates(subset=['Title'])"
   ]
  },
  {
   "cell_type": "code",
   "execution_count": 46,
   "metadata": {},
   "outputs": [
    {
     "data": {
      "text/html": [
       "<div>\n",
       "<style scoped>\n",
       "    .dataframe tbody tr th:only-of-type {\n",
       "        vertical-align: middle;\n",
       "    }\n",
       "\n",
       "    .dataframe tbody tr th {\n",
       "        vertical-align: top;\n",
       "    }\n",
       "\n",
       "    .dataframe thead th {\n",
       "        text-align: right;\n",
       "    }\n",
       "</style>\n",
       "<table border=\"1\" class=\"dataframe\">\n",
       "  <thead>\n",
       "    <tr style=\"text-align: right;\">\n",
       "      <th></th>\n",
       "      <th>Title</th>\n",
       "      <th>Rating</th>\n",
       "      <th>Genre</th>\n",
       "      <th>Runtime</th>\n",
       "    </tr>\n",
       "  </thead>\n",
       "  <tbody>\n",
       "    <tr>\n",
       "      <th>3</th>\n",
       "      <td>The Dark Knight</td>\n",
       "      <td>9.0</td>\n",
       "      <td>Action, Crime, Drama</td>\n",
       "      <td>152 min</td>\n",
       "    </tr>\n",
       "  </tbody>\n",
       "</table>\n",
       "</div>"
      ],
      "text/plain": [
       "             Title  Rating                 Genre  Runtime\n",
       "3  The Dark Knight     9.0  Action, Crime, Drama  152 min"
      ]
     },
     "execution_count": 46,
     "metadata": {},
     "output_type": "execute_result"
    }
   ],
   "source": [
    "second_clean.sample()"
   ]
  },
  {
   "cell_type": "markdown",
   "metadata": {},
   "source": [
    "To ensure all the duplicates in this df are dropped:"
   ]
  },
  {
   "cell_type": "code",
   "execution_count": 47,
   "metadata": {},
   "outputs": [
    {
     "data": {
      "text/plain": [
       "np.int64(0)"
      ]
     },
     "execution_count": 47,
     "metadata": {},
     "output_type": "execute_result"
    }
   ],
   "source": [
    "second_clean.duplicated().sum()"
   ]
  },
  {
   "cell_type": "markdown",
   "metadata": {},
   "source": [
    "All duplicate values are dropped successfully."
   ]
  },
  {
   "cell_type": "markdown",
   "metadata": {},
   "source": [
    "---"
   ]
  },
  {
   "cell_type": "markdown",
   "metadata": {},
   "source": [
    "### **Handling Validity Issues**"
   ]
  },
  {
   "cell_type": "code",
   "execution_count": 48,
   "metadata": {},
   "outputs": [],
   "source": [
    "first_clean['Runtime']=first_clean['Runtime'].replace({0:np.nan})"
   ]
  },
  {
   "cell_type": "code",
   "execution_count": 49,
   "metadata": {},
   "outputs": [
    {
     "data": {
      "text/html": [
       "<div>\n",
       "<style scoped>\n",
       "    .dataframe tbody tr th:only-of-type {\n",
       "        vertical-align: middle;\n",
       "    }\n",
       "\n",
       "    .dataframe tbody tr th {\n",
       "        vertical-align: top;\n",
       "    }\n",
       "\n",
       "    .dataframe thead th {\n",
       "        text-align: right;\n",
       "    }\n",
       "</style>\n",
       "<table border=\"1\" class=\"dataframe\">\n",
       "  <thead>\n",
       "    <tr style=\"text-align: right;\">\n",
       "      <th></th>\n",
       "      <th>Title</th>\n",
       "      <th>Genres</th>\n",
       "      <th>Runtime</th>\n",
       "      <th>Rating</th>\n",
       "    </tr>\n",
       "  </thead>\n",
       "  <tbody>\n",
       "  </tbody>\n",
       "</table>\n",
       "</div>"
      ],
      "text/plain": [
       "Empty DataFrame\n",
       "Columns: [Title, Genres, Runtime, Rating]\n",
       "Index: []"
      ]
     },
     "execution_count": 49,
     "metadata": {},
     "output_type": "execute_result"
    }
   ],
   "source": [
    "first_clean[first_clean['Runtime'] == 0]"
   ]
  },
  {
   "cell_type": "code",
   "execution_count": 50,
   "metadata": {
    "scrolled": true
   },
   "outputs": [
    {
     "data": {
      "text/plain": [
       "np.int64(193)"
      ]
     },
     "execution_count": 50,
     "metadata": {},
     "output_type": "execute_result"
    }
   ],
   "source": [
    "first_clean['Runtime'].isna().sum()"
   ]
  },
  {
   "cell_type": "markdown",
   "metadata": {},
   "source": [
    "There are 193 null values, which were previously misrepresented as 0."
   ]
  },
  {
   "cell_type": "code",
   "execution_count": 51,
   "metadata": {},
   "outputs": [],
   "source": [
    "first_clean['Genres']=first_clean['Genres'].replace({'Uncategorized':np.nan})"
   ]
  },
  {
   "cell_type": "code",
   "execution_count": 52,
   "metadata": {},
   "outputs": [
    {
     "data": {
      "text/html": [
       "<div>\n",
       "<style scoped>\n",
       "    .dataframe tbody tr th:only-of-type {\n",
       "        vertical-align: middle;\n",
       "    }\n",
       "\n",
       "    .dataframe tbody tr th {\n",
       "        vertical-align: top;\n",
       "    }\n",
       "\n",
       "    .dataframe thead th {\n",
       "        text-align: right;\n",
       "    }\n",
       "</style>\n",
       "<table border=\"1\" class=\"dataframe\">\n",
       "  <thead>\n",
       "    <tr style=\"text-align: right;\">\n",
       "      <th></th>\n",
       "      <th>Title</th>\n",
       "      <th>Genres</th>\n",
       "      <th>Runtime</th>\n",
       "      <th>Rating</th>\n",
       "    </tr>\n",
       "  </thead>\n",
       "  <tbody>\n",
       "  </tbody>\n",
       "</table>\n",
       "</div>"
      ],
      "text/plain": [
       "Empty DataFrame\n",
       "Columns: [Title, Genres, Runtime, Rating]\n",
       "Index: []"
      ]
     },
     "execution_count": 52,
     "metadata": {},
     "output_type": "execute_result"
    }
   ],
   "source": [
    "first_clean[first_clean['Genres']=='Uncategorized']"
   ]
  },
  {
   "cell_type": "code",
   "execution_count": 53,
   "metadata": {},
   "outputs": [
    {
     "data": {
      "text/plain": [
       "np.int64(25)"
      ]
     },
     "execution_count": 53,
     "metadata": {},
     "output_type": "execute_result"
    }
   ],
   "source": [
    "first_clean['Genres'].isna().sum()"
   ]
  },
  {
   "cell_type": "markdown",
   "metadata": {},
   "source": [
    "There are no misrepresented values now in both columns[ 'Rating' , 'Runtime' ], with 25 null values in genres column which do not affect our study so we'll ignore it."
   ]
  },
  {
   "cell_type": "markdown",
   "metadata": {},
   "source": [
    "---"
   ]
  },
  {
   "cell_type": "markdown",
   "metadata": {},
   "source": [
    "### **Handling Missing Values**"
   ]
  },
  {
   "cell_type": "code",
   "execution_count": 54,
   "metadata": {},
   "outputs": [
    {
     "data": {
      "text/plain": [
       "Title        0\n",
       "Genres      25\n",
       "Runtime    193\n",
       "Rating       0\n",
       "dtype: int64"
      ]
     },
     "execution_count": 54,
     "metadata": {},
     "output_type": "execute_result"
    }
   ],
   "source": [
    "first_clean.isna().sum()"
   ]
  },
  {
   "cell_type": "markdown",
   "metadata": {},
   "source": [
    "The Perecentage of missing values is 4.89% of our dataframe with no Runtime values which are essential, I chose to lean into imputing the missing values in this column."
   ]
  },
  {
   "cell_type": "code",
   "execution_count": 55,
   "metadata": {},
   "outputs": [],
   "source": [
    "first_clean['Runtime']=first_clean['Runtime'].fillna(first_clean['Runtime'].mean())"
   ]
  },
  {
   "cell_type": "code",
   "execution_count": 56,
   "metadata": {
    "scrolled": true
   },
   "outputs": [
    {
     "data": {
      "text/plain": [
       "np.int64(0)"
      ]
     },
     "execution_count": 56,
     "metadata": {},
     "output_type": "execute_result"
    }
   ],
   "source": [
    "first_clean['Runtime'].isna().sum()"
   ]
  },
  {
   "cell_type": "markdown",
   "metadata": {},
   "source": [
    "After imputing the NaN values in this dataframe with the mean, there are no null values for sure now."
   ]
  },
  {
   "cell_type": "markdown",
   "metadata": {},
   "source": [
    "---"
   ]
  },
  {
   "cell_type": "markdown",
   "metadata": {},
   "source": [
    "#### To Handle The Data Types:"
   ]
  },
  {
   "cell_type": "code",
   "execution_count": 57,
   "metadata": {},
   "outputs": [
    {
     "name": "stdout",
     "output_type": "stream",
     "text": [
      "<class 'pandas.core.frame.DataFrame'>\n",
      "Index: 3927 entries, 0 to 3939\n",
      "Data columns (total 4 columns):\n",
      " #   Column   Non-Null Count  Dtype  \n",
      "---  ------   --------------  -----  \n",
      " 0   Title    3927 non-null   object \n",
      " 1   Genres   3902 non-null   object \n",
      " 2   Runtime  3927 non-null   float64\n",
      " 3   Rating   3927 non-null   float64\n",
      "dtypes: float64(2), object(2)\n",
      "memory usage: 153.4+ KB\n"
     ]
    }
   ],
   "source": [
    "first_clean.info()"
   ]
  },
  {
   "cell_type": "code",
   "execution_count": 58,
   "metadata": {
    "id": "9UejDWrNMW4a"
   },
   "outputs": [],
   "source": [
    "first_clean['Runtime'] = first_clean['Runtime'].astype('int16')\n",
    "\n",
    "first_clean['Rating'] = first_clean['Rating'].astype('float16')"
   ]
  },
  {
   "cell_type": "code",
   "execution_count": 59,
   "metadata": {},
   "outputs": [
    {
     "name": "stdout",
     "output_type": "stream",
     "text": [
      "<class 'pandas.core.frame.DataFrame'>\n",
      "Index: 3927 entries, 0 to 3939\n",
      "Data columns (total 4 columns):\n",
      " #   Column   Non-Null Count  Dtype  \n",
      "---  ------   --------------  -----  \n",
      " 0   Title    3927 non-null   object \n",
      " 1   Genres   3902 non-null   object \n",
      " 2   Runtime  3927 non-null   int16  \n",
      " 3   Rating   3927 non-null   float16\n",
      "dtypes: float16(1), int16(1), object(2)\n",
      "memory usage: 107.4+ KB\n"
     ]
    }
   ],
   "source": [
    "first_clean.info()"
   ]
  },
  {
   "cell_type": "markdown",
   "metadata": {},
   "source": [
    "As a result of enhancing the data types, notice that the __memory usage__ has dropped to __107.4+ KB__ from __153.4+ KB__."
   ]
  },
  {
   "cell_type": "markdown",
   "metadata": {},
   "source": [
    "---"
   ]
  },
  {
   "cell_type": "markdown",
   "metadata": {},
   "source": [
    "__As for the second dataframe:__"
   ]
  },
  {
   "cell_type": "code",
   "execution_count": 60,
   "metadata": {},
   "outputs": [
    {
     "name": "stdout",
     "output_type": "stream",
     "text": [
      "Title        0\n",
      "Rating     101\n",
      "Genre       65\n",
      "Runtime     72\n",
      "dtype: int64\n"
     ]
    }
   ],
   "source": [
    "print(second_clean.isnull().sum())"
   ]
  },
  {
   "cell_type": "markdown",
   "metadata": {},
   "source": [
    "**Drop rows where both 'Runtime' and 'Rating' are null** as they would lead to inaccurate results."
   ]
  },
  {
   "cell_type": "code",
   "execution_count": 61,
   "metadata": {
    "scrolled": true
   },
   "outputs": [
    {
     "name": "stdout",
     "output_type": "stream",
     "text": [
      "Title       0\n",
      "Rating     60\n",
      "Genre      35\n",
      "Runtime    31\n",
      "dtype: int64\n"
     ]
    }
   ],
   "source": [
    "second_clean = second_clean.dropna(subset=['Runtime', 'Rating'], how='all')\n",
    "print(second_clean.isnull().sum())"
   ]
  },
  {
   "cell_type": "markdown",
   "metadata": {},
   "source": [
    "As for the ramaining rows we will impute them with the mean values."
   ]
  },
  {
   "cell_type": "markdown",
   "metadata": {},
   "source": [
    "### Handling the Second Tidiness Issue:"
   ]
  },
  {
   "cell_type": "markdown",
   "metadata": {},
   "source": [
    "The second dataframe (second_clean) had the Runtime column with values such as: 1h 30min or 45min, which needs to be corrected in order to fill the null values in this column."
   ]
  },
  {
   "cell_type": "code",
   "execution_count": 62,
   "metadata": {},
   "outputs": [],
   "source": [
    "import re"
   ]
  },
  {
   "cell_type": "code",
   "execution_count": 63,
   "metadata": {},
   "outputs": [
    {
     "name": "stdout",
     "output_type": "stream",
     "text": [
      "0      136.0\n",
      "1      178.0\n",
      "2      148.0\n",
      "3      152.0\n",
      "4      121.0\n",
      "       ...  \n",
      "979     95.0\n",
      "980      NaN\n",
      "981      6.0\n",
      "982     60.0\n",
      "983    103.0\n",
      "Name: Runtime, Length: 868, dtype: float64\n"
     ]
    }
   ],
   "source": [
    "def convert_to_minutes(runtime):\n",
    "    if isinstance(runtime, str):\n",
    "        match = re.match(r'(?:(\\d+) h )?(?:(\\d+) min)?', runtime)\n",
    "        if match:\n",
    "            hours = int(match.group(1)) if match.group(1) else 0\n",
    "            minutes = int(match.group(2)) if match.group(2) else 0\n",
    "            return hours * 60 + minutes\n",
    "    return np.nan\n",
    "\n",
    "second_clean['Runtime'] = second_clean['Runtime'].apply(convert_to_minutes)\n",
    "\n",
    "print(second_clean['Runtime'])"
   ]
  },
  {
   "cell_type": "code",
   "execution_count": 64,
   "metadata": {},
   "outputs": [],
   "source": [
    "second_clean['Runtime'] = second_clean['Runtime'].fillna(second_clean['Runtime'].mean())"
   ]
  },
  {
   "cell_type": "code",
   "execution_count": 65,
   "metadata": {},
   "outputs": [
    {
     "name": "stdout",
     "output_type": "stream",
     "text": [
      "Title       0\n",
      "Rating     60\n",
      "Genre      35\n",
      "Runtime     0\n",
      "dtype: int64\n"
     ]
    }
   ],
   "source": [
    "print(second_clean.isnull().sum())"
   ]
  },
  {
   "cell_type": "markdown",
   "metadata": {},
   "source": [
    "There are now no null values in the second dataframe  except for Genre which is not our focus nor does it affect our study."
   ]
  },
  {
   "cell_type": "code",
   "execution_count": 66,
   "metadata": {},
   "outputs": [
    {
     "name": "stdout",
     "output_type": "stream",
     "text": [
      "<class 'pandas.core.frame.DataFrame'>\n",
      "Index: 868 entries, 0 to 983\n",
      "Data columns (total 4 columns):\n",
      " #   Column   Non-Null Count  Dtype  \n",
      "---  ------   --------------  -----  \n",
      " 0   Title    868 non-null    object \n",
      " 1   Rating   808 non-null    float64\n",
      " 2   Genre    833 non-null    object \n",
      " 3   Runtime  868 non-null    float64\n",
      "dtypes: float64(2), object(2)\n",
      "memory usage: 33.9+ KB\n"
     ]
    }
   ],
   "source": [
    "second_clean.info()"
   ]
  },
  {
   "cell_type": "code",
   "execution_count": 67,
   "metadata": {},
   "outputs": [],
   "source": [
    "second_clean['Runtime'] = second_clean['Runtime'].astype('int16')\n",
    "\n",
    "second_clean['Rating'] = second_clean['Rating'].astype('float16')"
   ]
  },
  {
   "cell_type": "code",
   "execution_count": 68,
   "metadata": {},
   "outputs": [
    {
     "name": "stdout",
     "output_type": "stream",
     "text": [
      "<class 'pandas.core.frame.DataFrame'>\n",
      "Index: 868 entries, 0 to 983\n",
      "Data columns (total 4 columns):\n",
      " #   Column   Non-Null Count  Dtype  \n",
      "---  ------   --------------  -----  \n",
      " 0   Title    868 non-null    object \n",
      " 1   Rating   808 non-null    float16\n",
      " 2   Genre    833 non-null    object \n",
      " 3   Runtime  868 non-null    int16  \n",
      "dtypes: float16(1), int16(1), object(2)\n",
      "memory usage: 23.7+ KB\n"
     ]
    }
   ],
   "source": [
    "second_clean.info()"
   ]
  },
  {
   "cell_type": "markdown",
   "metadata": {},
   "source": [
    "As a result of enhancing the data types, notice that the __memory usage__ has dropped from __33.9+ KB__ to __23.7+ KB__"
   ]
  },
  {
   "cell_type": "markdown",
   "metadata": {
    "id": "oUBee-LPytkv"
   },
   "source": [
    "### Handling Inconsistency:"
   ]
  },
  {
   "cell_type": "code",
   "execution_count": 69,
   "metadata": {
    "scrolled": true
   },
   "outputs": [
    {
     "name": "stderr",
     "output_type": "stream",
     "text": [
      "/workspace/pandas/io/formats/format.py:1458: RuntimeWarning: overflow encountered in cast\n",
      "  has_large_values = (abs_vals > 1e6).any()\n"
     ]
    },
    {
     "data": {
      "text/html": [
       "<div>\n",
       "<style scoped>\n",
       "    .dataframe tbody tr th:only-of-type {\n",
       "        vertical-align: middle;\n",
       "    }\n",
       "\n",
       "    .dataframe tbody tr th {\n",
       "        vertical-align: top;\n",
       "    }\n",
       "\n",
       "    .dataframe thead th {\n",
       "        text-align: right;\n",
       "    }\n",
       "</style>\n",
       "<table border=\"1\" class=\"dataframe\">\n",
       "  <thead>\n",
       "    <tr style=\"text-align: right;\">\n",
       "      <th></th>\n",
       "      <th>Title</th>\n",
       "      <th>Genres</th>\n",
       "      <th>Runtime</th>\n",
       "      <th>Rating</th>\n",
       "    </tr>\n",
       "  </thead>\n",
       "  <tbody>\n",
       "    <tr>\n",
       "      <th>0</th>\n",
       "      <td>Patton Oswalt: Annihilation</td>\n",
       "      <td>NaN</td>\n",
       "      <td>66</td>\n",
       "      <td>7.398438</td>\n",
       "    </tr>\n",
       "    <tr>\n",
       "      <th>1</th>\n",
       "      <td>New York Doll</td>\n",
       "      <td>Documentary,Music</td>\n",
       "      <td>75</td>\n",
       "      <td>7.898438</td>\n",
       "    </tr>\n",
       "    <tr>\n",
       "      <th>2</th>\n",
       "      <td>Mickey's Magical Christmas: Snowed in at the H...</td>\n",
       "      <td>Adventure,Animation,Comedy,Family,Fantasy</td>\n",
       "      <td>65</td>\n",
       "      <td>6.800781</td>\n",
       "    </tr>\n",
       "    <tr>\n",
       "      <th>3</th>\n",
       "      <td>Mickey's House of Villains</td>\n",
       "      <td>Animation,Comedy,Family,Fantasy,Horror</td>\n",
       "      <td>105</td>\n",
       "      <td>6.601562</td>\n",
       "    </tr>\n",
       "    <tr>\n",
       "      <th>4</th>\n",
       "      <td>And Then I Go</td>\n",
       "      <td>Drama</td>\n",
       "      <td>99</td>\n",
       "      <td>7.601562</td>\n",
       "    </tr>\n",
       "  </tbody>\n",
       "</table>\n",
       "</div>"
      ],
      "text/plain": [
       "                                               Title  \\\n",
       "0                        Patton Oswalt: Annihilation   \n",
       "1                                      New York Doll   \n",
       "2  Mickey's Magical Christmas: Snowed in at the H...   \n",
       "3                         Mickey's House of Villains   \n",
       "4                                      And Then I Go   \n",
       "\n",
       "                                      Genres  Runtime    Rating  \n",
       "0                                        NaN       66  7.398438  \n",
       "1                          Documentary,Music       75  7.898438  \n",
       "2  Adventure,Animation,Comedy,Family,Fantasy       65  6.800781  \n",
       "3     Animation,Comedy,Family,Fantasy,Horror      105  6.601562  \n",
       "4                                      Drama       99  7.601562  "
      ]
     },
     "execution_count": 69,
     "metadata": {},
     "output_type": "execute_result"
    }
   ],
   "source": [
    "first_clean['Genres'] = first_clean['Genres'].apply(lambda x: str(x) if pd.notna(x) else x)\n",
    "\n",
    "first_clean['Genres'] = first_clean['Genres'].str.replace('|', ',', regex=False)\n",
    "\n",
    "first_clean.head()"
   ]
  },
  {
   "cell_type": "code",
   "execution_count": 70,
   "metadata": {
    "scrolled": true
   },
   "outputs": [
    {
     "data": {
      "text/html": [
       "<div>\n",
       "<style scoped>\n",
       "    .dataframe tbody tr th:only-of-type {\n",
       "        vertical-align: middle;\n",
       "    }\n",
       "\n",
       "    .dataframe tbody tr th {\n",
       "        vertical-align: top;\n",
       "    }\n",
       "\n",
       "    .dataframe thead th {\n",
       "        text-align: right;\n",
       "    }\n",
       "</style>\n",
       "<table border=\"1\" class=\"dataframe\">\n",
       "  <thead>\n",
       "    <tr style=\"text-align: right;\">\n",
       "      <th></th>\n",
       "      <th>Title</th>\n",
       "      <th>Year</th>\n",
       "      <th>Summary</th>\n",
       "      <th>Short Summary</th>\n",
       "      <th>Genres</th>\n",
       "      <th>IMDB ID</th>\n",
       "      <th>Runtime</th>\n",
       "      <th>YouTube Trailer</th>\n",
       "      <th>Rating</th>\n",
       "      <th>Movie Poster</th>\n",
       "      <th>Director</th>\n",
       "      <th>Writers</th>\n",
       "      <th>Cast</th>\n",
       "    </tr>\n",
       "  </thead>\n",
       "  <tbody>\n",
       "    <tr>\n",
       "      <th>1940</th>\n",
       "      <td>Monster House</td>\n",
       "      <td>2006</td>\n",
       "      <td>The teenage Ninja mutant snail DJ is observing...</td>\n",
       "      <td>Three teens discover that their neighbor's hou...</td>\n",
       "      <td>Action|Adventure|Animation|Comedy|Family</td>\n",
       "      <td>tt0385880</td>\n",
       "      <td>91</td>\n",
       "      <td>DSmE-0A5B8A</td>\n",
       "      <td>6.6</td>\n",
       "      <td>https://hydramovies.com/wp-content/uploads/201...</td>\n",
       "      <td>Gil Kenan</td>\n",
       "      <td>Dan Harmon</td>\n",
       "      <td>Mitchel Musso|Sam Lerner</td>\n",
       "    </tr>\n",
       "  </tbody>\n",
       "</table>\n",
       "</div>"
      ],
      "text/plain": [
       "              Title  Year                                            Summary  \\\n",
       "1940  Monster House  2006  The teenage Ninja mutant snail DJ is observing...   \n",
       "\n",
       "                                          Short Summary  \\\n",
       "1940  Three teens discover that their neighbor's hou...   \n",
       "\n",
       "                                        Genres    IMDB ID  Runtime  \\\n",
       "1940  Action|Adventure|Animation|Comedy|Family  tt0385880       91   \n",
       "\n",
       "     YouTube Trailer  Rating  \\\n",
       "1940     DSmE-0A5B8A     6.6   \n",
       "\n",
       "                                           Movie Poster   Director  \\\n",
       "1940  https://hydramovies.com/wp-content/uploads/201...  Gil Kenan   \n",
       "\n",
       "         Writers                      Cast  \n",
       "1940  Dan Harmon  Mitchel Musso|Sam Lerner  "
      ]
     },
     "execution_count": 70,
     "metadata": {},
     "output_type": "execute_result"
    }
   ],
   "source": [
    "movies_first.sample(random_state=5)"
   ]
  },
  {
   "cell_type": "markdown",
   "metadata": {},
   "source": [
    "Like this the column Genres in the first_clean dataframe will be separated by commas instead of bars."
   ]
  },
  {
   "cell_type": "markdown",
   "metadata": {},
   "source": [
    "### To have the structure for both dataframes more consistent:"
   ]
  },
  {
   "cell_type": "markdown",
   "metadata": {},
   "source": [
    "To have both dataframes share the column names to ready them for the merge process."
   ]
  },
  {
   "cell_type": "code",
   "execution_count": 71,
   "metadata": {},
   "outputs": [],
   "source": [
    "first_clean.rename(columns={'Genres': 'Genre'}, inplace=True)"
   ]
  },
  {
   "cell_type": "code",
   "execution_count": 72,
   "metadata": {},
   "outputs": [
    {
     "name": "stderr",
     "output_type": "stream",
     "text": [
      "/workspace/pandas/io/formats/format.py:1458: RuntimeWarning: overflow encountered in cast\n",
      "  has_large_values = (abs_vals > 1e6).any()\n"
     ]
    },
    {
     "data": {
      "text/html": [
       "<div>\n",
       "<style scoped>\n",
       "    .dataframe tbody tr th:only-of-type {\n",
       "        vertical-align: middle;\n",
       "    }\n",
       "\n",
       "    .dataframe tbody tr th {\n",
       "        vertical-align: top;\n",
       "    }\n",
       "\n",
       "    .dataframe thead th {\n",
       "        text-align: right;\n",
       "    }\n",
       "</style>\n",
       "<table border=\"1\" class=\"dataframe\">\n",
       "  <thead>\n",
       "    <tr style=\"text-align: right;\">\n",
       "      <th></th>\n",
       "      <th>Title</th>\n",
       "      <th>Genre</th>\n",
       "      <th>Runtime</th>\n",
       "      <th>Rating</th>\n",
       "    </tr>\n",
       "  </thead>\n",
       "  <tbody>\n",
       "    <tr>\n",
       "      <th>0</th>\n",
       "      <td>Patton Oswalt: Annihilation</td>\n",
       "      <td>NaN</td>\n",
       "      <td>66</td>\n",
       "      <td>7.398438</td>\n",
       "    </tr>\n",
       "  </tbody>\n",
       "</table>\n",
       "</div>"
      ],
      "text/plain": [
       "                         Title Genre  Runtime    Rating\n",
       "0  Patton Oswalt: Annihilation   NaN       66  7.398438"
      ]
     },
     "execution_count": 72,
     "metadata": {},
     "output_type": "execute_result"
    }
   ],
   "source": [
    "first_clean.head(1)"
   ]
  },
  {
   "cell_type": "markdown",
   "metadata": {},
   "source": [
    "__Note:__ the Genres column has multiple values inside yet I chose to keep it since it doesn't impact our study."
   ]
  },
  {
   "cell_type": "markdown",
   "metadata": {},
   "source": [
    "from those samples from both dataframes we can see that the data is clean and ready to be combined."
   ]
  },
  {
   "cell_type": "markdown",
   "metadata": {
    "id": "F42urHuzttjF"
   },
   "source": [
    "## 4. Update your data store"
   ]
  },
  {
   "cell_type": "markdown",
   "metadata": {},
   "source": [
    "To create the dataframes:"
   ]
  },
  {
   "cell_type": "code",
   "execution_count": 73,
   "metadata": {},
   "outputs": [],
   "source": [
    "cleaned_movies_first = pd.DataFrame(first_clean)\n",
    "cleaned_movies_second = pd.DataFrame(second_clean)"
   ]
  },
  {
   "cell_type": "code",
   "execution_count": 74,
   "metadata": {},
   "outputs": [],
   "source": [
    "cleaned_movies_second = cleaned_movies_second[['Title', 'Genre', 'Runtime', 'Rating']]"
   ]
  },
  {
   "cell_type": "code",
   "execution_count": 75,
   "metadata": {},
   "outputs": [],
   "source": [
    "# Save the DataFrames to CSV files\n",
    "cleaned_movies_first.to_csv('cleaned_movies_first.csv', index=False)\n",
    "cleaned_movies_second.to_csv('cleaned_movies_second.csv', index=False)"
   ]
  },
  {
   "cell_type": "markdown",
   "metadata": {},
   "source": [
    "## Combining The DataFrames:"
   ]
  },
  {
   "cell_type": "code",
   "execution_count": 76,
   "metadata": {
    "scrolled": false
   },
   "outputs": [],
   "source": [
    "combined_df = pd.DataFrame(pd.concat([cleaned_movies_first, cleaned_movies_second], ignore_index=True))"
   ]
  },
  {
   "cell_type": "markdown",
   "metadata": {},
   "source": [
    " Save the combined DataFrame to a CSV file:"
   ]
  },
  {
   "cell_type": "code",
   "execution_count": 77,
   "metadata": {},
   "outputs": [],
   "source": [
    "combined_df.to_csv('combined_movies.csv', index=False)"
   ]
  },
  {
   "cell_type": "markdown",
   "metadata": {},
   "source": [
    "__The combined DtaFrame:__"
   ]
  },
  {
   "cell_type": "code",
   "execution_count": 78,
   "metadata": {},
   "outputs": [
    {
     "name": "stderr",
     "output_type": "stream",
     "text": [
      "/workspace/pandas/io/formats/format.py:1458: RuntimeWarning: overflow encountered in cast\n",
      "  has_large_values = (abs_vals > 1e6).any()\n"
     ]
    },
    {
     "data": {
      "text/html": [
       "<div>\n",
       "<style scoped>\n",
       "    .dataframe tbody tr th:only-of-type {\n",
       "        vertical-align: middle;\n",
       "    }\n",
       "\n",
       "    .dataframe tbody tr th {\n",
       "        vertical-align: top;\n",
       "    }\n",
       "\n",
       "    .dataframe thead th {\n",
       "        text-align: right;\n",
       "    }\n",
       "</style>\n",
       "<table border=\"1\" class=\"dataframe\">\n",
       "  <thead>\n",
       "    <tr style=\"text-align: right;\">\n",
       "      <th></th>\n",
       "      <th>Title</th>\n",
       "      <th>Genre</th>\n",
       "      <th>Runtime</th>\n",
       "      <th>Rating</th>\n",
       "    </tr>\n",
       "  </thead>\n",
       "  <tbody>\n",
       "    <tr>\n",
       "      <th>0</th>\n",
       "      <td>Patton Oswalt: Annihilation</td>\n",
       "      <td>NaN</td>\n",
       "      <td>66</td>\n",
       "      <td>7.398438</td>\n",
       "    </tr>\n",
       "    <tr>\n",
       "      <th>1</th>\n",
       "      <td>New York Doll</td>\n",
       "      <td>Documentary,Music</td>\n",
       "      <td>75</td>\n",
       "      <td>7.898438</td>\n",
       "    </tr>\n",
       "    <tr>\n",
       "      <th>2</th>\n",
       "      <td>Mickey's Magical Christmas: Snowed in at the H...</td>\n",
       "      <td>Adventure,Animation,Comedy,Family,Fantasy</td>\n",
       "      <td>65</td>\n",
       "      <td>6.800781</td>\n",
       "    </tr>\n",
       "    <tr>\n",
       "      <th>3</th>\n",
       "      <td>Mickey's House of Villains</td>\n",
       "      <td>Animation,Comedy,Family,Fantasy,Horror</td>\n",
       "      <td>105</td>\n",
       "      <td>6.601562</td>\n",
       "    </tr>\n",
       "    <tr>\n",
       "      <th>4</th>\n",
       "      <td>And Then I Go</td>\n",
       "      <td>Drama</td>\n",
       "      <td>99</td>\n",
       "      <td>7.601562</td>\n",
       "    </tr>\n",
       "  </tbody>\n",
       "</table>\n",
       "</div>"
      ],
      "text/plain": [
       "                                               Title  \\\n",
       "0                        Patton Oswalt: Annihilation   \n",
       "1                                      New York Doll   \n",
       "2  Mickey's Magical Christmas: Snowed in at the H...   \n",
       "3                         Mickey's House of Villains   \n",
       "4                                      And Then I Go   \n",
       "\n",
       "                                       Genre  Runtime    Rating  \n",
       "0                                        NaN       66  7.398438  \n",
       "1                          Documentary,Music       75  7.898438  \n",
       "2  Adventure,Animation,Comedy,Family,Fantasy       65  6.800781  \n",
       "3     Animation,Comedy,Family,Fantasy,Horror      105  6.601562  \n",
       "4                                      Drama       99  7.601562  "
      ]
     },
     "execution_count": 78,
     "metadata": {},
     "output_type": "execute_result"
    }
   ],
   "source": [
    "combined_df.head()"
   ]
  },
  {
   "cell_type": "code",
   "execution_count": 79,
   "metadata": {},
   "outputs": [
    {
     "data": {
      "text/plain": [
       "(4795, 4)"
      ]
     },
     "execution_count": 79,
     "metadata": {},
     "output_type": "execute_result"
    }
   ],
   "source": [
    "combined_df.shape"
   ]
  },
  {
   "cell_type": "markdown",
   "metadata": {
    "id": "cGy_yddGtzhM"
   },
   "source": [
    "## 5. Answer the research question\n",
    "\n",
    "### **5.1:** How is Runtime and Rating related?\n"
   ]
  },
  {
   "cell_type": "markdown",
   "metadata": {},
   "source": [
    "__First Visualization - Scatter Plot.__"
   ]
  },
  {
   "cell_type": "code",
   "execution_count": 80,
   "metadata": {
    "scrolled": false
   },
   "outputs": [
    {
     "name": "stdout",
     "output_type": "stream",
     "text": [
      "Defaulting to user installation because normal site-packages is not writeable\n",
      "Requirement already satisfied: matplotlib in /home/student/.local/lib/python3.10/site-packages (3.9.0)\n",
      "Requirement already satisfied: seaborn in /home/student/.local/lib/python3.10/site-packages (0.13.2)\n",
      "Requirement already satisfied: numpy>=1.23 in /opt/conda/lib/python3.10/site-packages (from matplotlib) (1.24.3)\n",
      "Requirement already satisfied: pyparsing>=2.3.1 in /opt/conda/lib/python3.10/site-packages (from matplotlib) (3.0.9)\n",
      "Requirement already satisfied: python-dateutil>=2.7 in /opt/conda/lib/python3.10/site-packages (from matplotlib) (2.9.0.post0)\n",
      "Requirement already satisfied: packaging>=20.0 in /opt/conda/lib/python3.10/site-packages (from matplotlib) (23.0)\n",
      "Requirement already satisfied: fonttools>=4.22.0 in /opt/conda/lib/python3.10/site-packages (from matplotlib) (4.51.0)\n",
      "Requirement already satisfied: cycler>=0.10 in /opt/conda/lib/python3.10/site-packages (from matplotlib) (0.12.1)\n",
      "Requirement already satisfied: contourpy>=1.0.1 in /opt/conda/lib/python3.10/site-packages (from matplotlib) (1.2.1)\n",
      "Requirement already satisfied: pillow>=8 in /opt/conda/lib/python3.10/site-packages (from matplotlib) (9.4.0)\n",
      "Requirement already satisfied: kiwisolver>=1.3.1 in /opt/conda/lib/python3.10/site-packages (from matplotlib) (1.4.5)\n",
      "Requirement already satisfied: pandas>=1.2 in /opt/conda/lib/python3.10/site-packages (from seaborn) (2.0.3)\n",
      "Requirement already satisfied: tzdata>=2022.1 in /opt/conda/lib/python3.10/site-packages (from pandas>=1.2->seaborn) (2024.1)\n",
      "Requirement already satisfied: pytz>=2020.1 in /opt/conda/lib/python3.10/site-packages (from pandas>=1.2->seaborn) (2022.7)\n",
      "Requirement already satisfied: six>=1.5 in /opt/conda/lib/python3.10/site-packages (from python-dateutil>=2.7->matplotlib) (1.16.0)\n",
      "Note: you may need to restart the kernel to use updated packages.\n"
     ]
    }
   ],
   "source": [
    "pip install --upgrade matplotlib seaborn"
   ]
  },
  {
   "cell_type": "code",
   "execution_count": 81,
   "metadata": {},
   "outputs": [
    {
     "data": {
      "image/png": "[encoded data removed]",
      "text/plain": [
       "<Figure size 1000x600 with 1 Axes>"
      ]
     },
     "metadata": {},
     "output_type": "display_data"
    }
   ],
   "source": [
    "import matplotlib.pyplot as plt\n",
    "import seaborn as sns\n",
    "\n",
    "plt.figure(figsize=(10, 6))\n",
    "sns.scatterplot(x='Runtime', y='Rating', data=combined_df)\n",
    "plt.title('Scatter Plot of Runtime vs. Rating')\n",
    "plt.xlabel('Runtime (minutes)')\n",
    "plt.ylabel('Rating')\n",
    "plt.show()"
   ]
  },
  {
   "cell_type": "markdown",
   "metadata": {},
   "source": [
    "The scatter plot shows that most movies are between [82-140] minutes, those have ratings of 5.3 to 8.5 which suggests that a common runtime for movies is around this range, and these movies tend to have moderate to good ratings."
   ]
  },
  {
   "cell_type": "markdown",
   "metadata": {},
   "source": [
    "__Second Visualization - Box Plot.__"
   ]
  },
  {
   "cell_type": "code",
   "execution_count": 82,
   "metadata": {
    "scrolled": true
   },
   "outputs": [
    {
     "name": "stderr",
     "output_type": "stream",
     "text": [
      "/tmp/ipykernel_1356/334637745.py:8: FutureWarning: The default of observed=False is deprecated and will be changed to True in a future version of pandas. Pass observed=False to retain current behavior or observed=True to adopt the future default and silence this warning.\n",
      "  average_rating = combined_df.groupby('Runtime_bin')['Rating'].mean().reset_index()\n",
      "/tmp/ipykernel_1356/334637745.py:12: FutureWarning: \n",
      "\n",
      "Passing `palette` without assigning `hue` is deprecated and will be removed in v0.14.0. Assign the `x` variable to `hue` and set `legend=False` for the same effect.\n",
      "\n",
      "  sns.barplot(x='Runtime_bin', y='Rating', data=average_rating, palette='viridis')\n"
     ]
    },
    {
     "data": {
      "image/png": "[encoded data removed]",
      "text/plain": [
       "<Figure size 1200x600 with 1 Axes>"
      ]
     },
     "metadata": {},
     "output_type": "display_data"
    }
   ],
   "source": [
    "bins = [0, 30, 60, 90, 120, 150, 180]\n",
    "labels = ['0-30', '31-60', '61-90', '91-120', '121-150', '151-180']\n",
    "\n",
    "# Bin the data\n",
    "combined_df['Runtime_bin'] = pd.cut(combined_df['Runtime'], bins=bins, labels=labels, right=False)\n",
    "\n",
    "# Calculate average rating for each bin\n",
    "average_rating = combined_df.groupby('Runtime_bin')['Rating'].mean().reset_index()\n",
    "\n",
    "# Create the bar plot\n",
    "plt.figure(figsize=(12, 6))\n",
    "sns.barplot(x='Runtime_bin', y='Rating', data=average_rating, palette='viridis')\n",
    "plt.title('Average Rating by Runtime Bins')\n",
    "plt.xlabel('Runtime Bin (minutes)')\n",
    "plt.ylabel('Average Rating')\n",
    "plt.show()"
   ]
  },
  {
   "cell_type": "markdown",
   "metadata": {},
   "source": [
    "It's Noticable that movies with 151-180 have the highest ratings,then movies with 121-150 come second yet the runtime doesn't look like one of the main factors affectingt the rating since movies with shorter runtime do not have way less ratings."
   ]
  },
  {
   "cell_type": "markdown",
   "metadata": {
    "id": "0ezWXXZVj-TP"
   },
   "source": [
    "### **5.2:** Reflection"
   ]
  },
  {
   "cell_type": "markdown",
   "metadata": {},
   "source": [
    "I would go deeper into the impact of different genres and cast members on movie ratings. Specifically,  analyze how varying genres might influence ratings and investigate whether specific cast members or ensemble casts correlate with longer or shorter films."
   ]
  },
  {
   "cell_type": "markdown",
   "metadata": {},
   "source": [
    "As for data quality issue Iwould like to investigate and handle outliers or anomalies that might skew the results."
   ]
  }
 ],
 "metadata": {
  "colab": {
   "provenance": []
  },
  "kernelspec": {
   "display_name": "Python 3 (ipykernel)",
   "language": "python",
   "name": "python3"
  },
  "language_info": {
   "codemirror_mode": {
    "name": "ipython",
    "version": 3
   },
   "file_extension": ".py",
   "mimetype": "text/x-python",
   "name": "python",
   "nbconvert_exporter": "python",
   "pygments_lexer": "ipython3",
   "version": "3.10.11"
  }
 },
 "nbformat": 4,
 "nbformat_minor": 1
}
